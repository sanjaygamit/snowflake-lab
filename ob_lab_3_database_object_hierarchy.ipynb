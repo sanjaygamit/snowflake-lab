{
 "metadata": {
  "kernelspec": {
   "display_name": "Streamlit Notebook",
   "name": "streamlit"
  },
  "lastEditStatus": {
   "notebookId": "3svgo6pufley3uwb3pta",
   "authorId": "6380573264452",
   "authorName": "MAGPIE07",
   "authorEmail": "",
   "sessionId": "05344cf1-670e-4899-a707-f05434dcfc1d",
   "lastEditTime": 1745829438244
  }
 },
 "nbformat_minor": 5,
 "nbformat": 4,
 "cells": [
  {
   "cell_type": "markdown",
   "id": "eefa1530-e246-41bd-b62e-24b23c21d745",
   "metadata": {
    "collapsed": false,
    "name": "lab_3_database_object_hierarchy"
   },
   "source": [
    "# Lab 3: Database Object Hierarchy\n",
    "\n",
    "👉 In this lab, we will review the use of Snowsight's Object Browsers to view and create objects, take a look at the `SHOW` command to access information on Snowflake objects and start querying data.\n",
    "\n",
    "To begin, let's grab **context information** we will use throughout this lab. \n",
    "\n",
    "- Click the **Start** button to activate this notebook.\n",
    "\n",
    "- Run the following Python cell."
   ]
  },
  {
   "cell_type": "markdown",
   "id": "08f400e4-96a2-48d1-8e1f-463ca9c9ed09",
   "metadata": {
    "collapsed": false,
    "name": "cell2"
   },
   "source": [
    "#### :warning: Each time a new session is started for this notebook, you need to rerun the cell below to configure \"variables\" for use in later cells. :warning:"
   ]
  },
  {
   "cell_type": "code",
   "execution_count": null,
   "id": "01502a7f-6944-4c9a-be6d-4bbf56542026",
   "metadata": {
    "collapsed": false,
    "language": "python",
    "name": "cell3"
   },
   "outputs": [],
   "source": [
    "import streamlit as st\n",
    "from snowflake.snowpark.context import get_active_session\n",
    "session = get_active_session()\n",
    "user = session.get_current_user().strip('\"')\n",
    "your_db = user + '_DB'\n",
    "print('Your current CONTEXT information:')\n",
    "print('---------------------------------')\n",
    "print(session)\n",
    "print('Your current USER is ' + user)"
   ]
  },
  {
   "cell_type": "markdown",
   "id": "c7ae2eab-d8e7-41cd-b0dd-84b772c31270",
   "metadata": {
    "collapsed": false,
    "name": "snowsight_object_browsers"
   },
   "source": [
    "## Snowsight Object Browsers 📓 \n",
    "\n",
    "Object Browsers in Snowsight help you locate and pick objects. \"Objects\" is a generic term for databases, schemas, tables, views, and much more! \n",
    "\n",
    "Read through the following examples to understand how to access and use these essential Snowsight components.\n",
    "\n",
    "### 1. Object Browser accessed from the Databases area in the main left-side menu.\n",
    "\n",
    "1. Click **Data** on the main left-side menu in Snowsight.\n",
    "1. Select **Databases**.\n",
    "1. This reveals the Object Browser (middle column in the image below).\n",
    "1. Refresh this output when you have made object changes using the **refresh** option at the top (indicated with an orange arrow).\n",
    "1. Click on object names to reveal object details in the right panel and unfold nested objects in the Object Browser itself.\n",
    "\n",
    "![Object browser from the main menu (image)](https://edu-cdev-images.s3.us-west-2.amazonaws.com/ob/ob_object_browser_1.png)\n",
    "\n",
    "### 2. Accessing the Object Browser when working in a Snowflake Notebook.\n",
    "\n",
    "- Click the **Databases** tab link at the top of the column to the left of your notebook.\n",
    "\n",
    "![Object browser access from notebooks (image)](https://edu-cdev-images.s3.us-west-2.amazonaws.com/ob/ob_object_browser_2.png)\n",
    "\n",
    "- This reveals a convenient navigable Object Browser that you can use and access in parallel with your Snowflake Notebook.\n",
    "- When hovering over object names in the Object Browser a dialog appears with a link you can use to open the object details page in a new tab/window.\n",
    "\n",
    "![Object browser access from notebooks 2 (image)](https://edu-cdev-images.s3.us-west-2.amazonaws.com/ob/ob_object_browser_3.png)"
   ]
  },
  {
   "cell_type": "markdown",
   "id": "3775908f-ca36-4846-8f38-5adca39217f2",
   "metadata": {
    "collapsed": false,
    "name": "lab_exercise_step_by_step"
   },
   "source": [
    "## Lab Exercise Step-By-Step 🥋\n",
    "\n",
    "Use the Snowsight Object Browser to perform the following actions. \n",
    "\n",
    "1. Open Snowsight in a new web browser tab or window (leave this Snowflake Notebook open).\n",
    "\n",
    "1. Ensure your role is set to `(animal)_LEARNER_RL` in the lower left corner.\n",
    "\n",
    "1. Click on **Data** > **Databases** in the main left-side menu.\n",
    "\n",
    "1. Click the blue `+ Database` button, top-right, to open the **New Database** dialog.\n",
    "\n",
    "1. Enter the name **(animal)_GARDEN_PLANTS** for the new database (where `animal` refers to the one assigned to you) and click the **Create** button.\n",
    "\n",
    "### Use the Object Browser and Object Details pages to perform the following actions yourself. 🎯 \n",
    "\n",
    "1. **Drop** the `PUBLIC` schema automatically created when you created your **(animal)_GARDEN_PLANTS** database. \n",
    "\n",
    "1. **Create** three new schemas in your **(animal)_GARDEN_PLANTS** database. Name them: \n",
    "    \n",
    "    - **VEGGIES**\n",
    "    \n",
    "    - **FRUITS**\n",
    "    \n",
    "    - **FLOWERS**\n",
    "\n",
    "💡 **Tip:** \"Drop\" is the same as \"Delete.\""
   ]
  },
  {
   "cell_type": "markdown",
   "id": "378e4107-5636-4108-8a12-3de794714e56",
   "metadata": {
    "collapsed": false,
    "name": "how_to_run_your_code"
   },
   "source": [
    "## How to Run Your Code 📓\n",
    "\n",
    "Snowflake offers multiple utilities for interacting with the platform. We will make use of the Snowsight UI throughout this course. The Snowsight UI contains three primary interfaces:\n",
    "\n",
    "- SQL worksheets\n",
    "\n",
    "- Python worksheets\n",
    "\n",
    "- Notebooks - they provide the ability to run both SQL and Python code in cells, and will be our main focus in this course."
   ]
  },
  {
   "cell_type": "markdown",
   "id": "da941b43-8409-4fec-9f28-cbf7777cab26",
   "metadata": {
    "collapsed": false,
    "name": "cell7"
   },
   "source": [
    "### Try the Following in the SQL Cell below 🥋\n",
    "\n",
    "Type `SELECT hello`\n",
    "\n",
    "- Be sure to put the word **hello** in single quotes - this is a String to output to screen, whereas `SELECT` is a keyword-command.\n",
    "\n",
    "- End your statement with a semi-colon - this defines the end of a statement for Snowflake to execute."
   ]
  },
  {
   "cell_type": "code",
   "execution_count": null,
   "id": "e474d9fc-496d-4588-bca8-6ecdcd267180",
   "metadata": {
    "language": "sql",
    "name": "cell8"
   },
   "outputs": [],
   "source": "-- enter your code in this cell - rewrite the fragment below\n-- once complete then hit the cell Run button (or cmd/Return) to execute the cell\n\nselect 'Hello';"
  },
  {
   "cell_type": "markdown",
   "id": "015dabd3-7308-4d3a-b643-a87f133b9d1f",
   "metadata": {
    "collapsed": false,
    "name": "cell9"
   },
   "source": [
    "### Now Try this in the SQL Cell below 🥋\n",
    "\n",
    "Type `SELECT hello AS Greeting` \n",
    "\n",
    "- Use `AS` to create a column name - this is a Snowflake keyword.\n",
    "\n",
    "- Be sure to put the word **hello** in single quotes.\n",
    "\n",
    "- Be sure to put the word **Greeting** in DOUBLE quotes - using double quotes preserves the case of the text assigned for the column name.\n",
    "\n",
    "- End your statement with a semi-colon."
   ]
  },
  {
   "cell_type": "code",
   "execution_count": null,
   "id": "984ddfa4-1411-4f9e-8309-9a78af3217ba",
   "metadata": {
    "language": "sql",
    "name": "cell10"
   },
   "outputs": [],
   "source": "-- enter your code in this cell - rewrite the fragment below\n-- once complete then hit the cell Run button (or cmd/Return) to execute the cell\n\nselect 'Hello' AS Greeting;\n"
  },
  {
   "cell_type": "markdown",
   "id": "2e082b5d-c12d-46d7-a7c1-e2c21de0167d",
   "metadata": {
    "collapsed": false,
    "name": "knowing_what_will_run"
   },
   "source": [
    "## Knowing What Will Run and What Has Run 📓 \n",
    "\n",
    "In a notebook cell, whether Python or SQL, **ALL** statements listed in a cell will be run in a block when the cell is executed. This means the output displayed will relate to the final statement in the block if there are multiple statements unless there is some error.\n",
    "\n",
    "The status of the cell run is indicated by the colors displayed by the cell. This status color is displayed in two places: the cell's left wall and the right cell navigation map.\n",
    "\n",
    "**Cell status color**:\n",
    "\n",
    "- **Blue dot** - Indicates a cell has been modified but hasn’t run yet.\n",
    "\n",
    "- **Red** - An error has occurred.\n",
    "\n",
    "- **Green** - Run was successful.\n",
    "\n",
    "- **Moving green** - The cell is currently running.\n",
    "\n",
    "- **Blinking gray** - The cell is waiting to be run. This status occurs when multiple cells are triggered to run.\n",
    "\n",
    "**Note**: Markdown cells do not show any status."
   ]
  },
  {
   "cell_type": "markdown",
   "id": "e1e89e03-ff8e-47f5-bfaa-a996b34b5df3",
   "metadata": {
    "collapsed": false,
    "name": "show_commands"
   },
   "source": [
    "## `SHOW` Commands\n",
    "\n",
    "### Run the `SHOW DATABASES` Command 🥋 \n",
    "\n",
    "Running a `SHOW DATABASES` command is just like being at the first level of an Object Browser (but with more details, and the ability to cut and paste the info into a spreadsheet).\n",
    "\n",
    "Execute this command in the following SQL cell to see the databases your `(animal)_LEARNER_RL` role has access to:"
   ]
  },
  {
   "cell_type": "code",
   "execution_count": null,
   "id": "f69adcc9-a099-4ca5-a80f-c978e61a4085",
   "metadata": {
    "collapsed": false,
    "language": "sql",
    "name": "cell13"
   },
   "outputs": [],
   "source": [
    "USE ROLE {{user}}_learner_rl;\n",
    "SHOW DATABASES;"
   ]
  },
  {
   "cell_type": "markdown",
   "id": "205f1365-3c2b-4fed-b2c6-944571866cbb",
   "metadata": {
    "collapsed": false,
    "name": "cell14"
   },
   "source": [
    "### Run the `SHOW SCHEMAS` Command 🥋 \n",
    "\n",
    "Running a `SHOW SCHEMAS` command is somewhat like being at the second level of an Object Browser. The difference is that the **context** in which you are set dictates which database you will get the SCHEMAS from. \n",
    "\n",
    "What are the names of the schemas listed as a result of running this SQL code?"
   ]
  },
  {
   "cell_type": "code",
   "execution_count": null,
   "id": "52a8cdb4-241b-4993-ab52-8e39796702c8",
   "metadata": {
    "collapsed": false,
    "language": "sql",
    "name": "cell15"
   },
   "outputs": [],
   "source": [
    "USE DATABASE {{user}}_GARDEN_PLANTS;\n",
    "SHOW SCHEMAS;"
   ]
  },
  {
   "cell_type": "markdown",
   "id": "8cd49bfb-8f77-49b9-9763-acb82173a295",
   "metadata": {
    "collapsed": false,
    "name": "cell16"
   },
   "source": [
    "### Change the Database Context and Run the `SHOW SCHEMAS` Command Again 🥋 \n",
    "\n",
    "Snowflake provides [sample data sets](https://docs.snowflake.com/en/user-guide/sample-data), such as the industry-standard TPC-DS and TPC-H benchmarks, for evaluating and testing a broad range of Snowflake’s SQL support. Sample data sets are provided in a database named SNOWFLAKE_SAMPLE_DATA, which has been shared with your account. We will make use of this in the following example.\n",
    "\n",
    "Change your context to use this database:"
   ]
  },
  {
   "cell_type": "code",
   "execution_count": null,
   "id": "152a24b4-711c-4076-accc-06080ae52e87",
   "metadata": {
    "collapsed": false,
    "language": "sql",
    "name": "cell17"
   },
   "outputs": [],
   "source": [
    "USE DATABASE snowflake_sample_data;"
   ]
  },
  {
   "cell_type": "markdown",
   "id": "1494bedb-73e0-4fdb-a73e-3267c456fd1e",
   "metadata": {
    "collapsed": false,
    "name": "cell18"
   },
   "source": [
    "### Run the `SHOW SCHEMAS` command again.\n",
    "\n",
    "How many schemas does this sample database contain?"
   ]
  },
  {
   "cell_type": "code",
   "execution_count": null,
   "id": "e839d8a4-cf70-4947-98f1-74ca1853b436",
   "metadata": {
    "collapsed": false,
    "language": "sql",
    "name": "cell19"
   },
   "outputs": [],
   "source": [
    "SHOW SCHEMAS;"
   ]
  },
  {
   "cell_type": "markdown",
   "id": "044d1f5b-df53-4891-9ea8-5149d4b9d472",
   "metadata": {
    "collapsed": false,
    "name": "cell20"
   },
   "source": [
    "### Run the `SHOW TABLES` Command 🥋 \n",
    "\n",
    "We can use the `SHOW` command to explore objects further down the hierarchy. \n",
    "\n",
    "Let's take a look at the tables in one of the schemas in the `SNOWFLAKE_SAMPLE_DATA` database, `TPCH_SF1`."
   ]
  },
  {
   "cell_type": "code",
   "execution_count": null,
   "id": "67fc7f7b-7787-4050-a578-5655a31bc341",
   "metadata": {
    "collapsed": false,
    "language": "sql",
    "name": "cell21"
   },
   "outputs": [],
   "source": [
    "USE SCHEMA snowflake_sample_data.tpch_sf1;\n",
    "SHOW TABLES;"
   ]
  },
  {
   "cell_type": "markdown",
   "id": "62e82d9f-829e-49f1-b60d-700611d4d06f",
   "metadata": {
    "collapsed": false,
    "name": "query_data_in_snowflake"
   },
   "source": [
    "## Query Data in Snowflake 📓\n",
    "\n",
    "Snowflake supports querying using standard `SELECT` statements. You can read more about the basic syntax [here](https://docs.snowflake.com/en/sql-reference/constructs).\n",
    "\n",
    "You will have plenty of opportunities to write and understand SQL throughout this course. "
   ]
  },
  {
   "cell_type": "markdown",
   "id": "f217a47d-4fde-4cdb-9cc5-668e76107c46",
   "metadata": {
    "collapsed": false,
    "name": "cell23"
   },
   "source": [
    "### Run sample queries. 🥋\n",
    "\n",
    "For now, review and run the following queries, which provide a taster of Snowflake's SQL capabilities across the sample data in the `TPCH_SF1` schema."
   ]
  },
  {
   "cell_type": "code",
   "execution_count": null,
   "id": "27ddb226-0811-4083-853b-9a561a65d1c6",
   "metadata": {
    "collapsed": false,
    "language": "sql",
    "name": "cell24"
   },
   "outputs": [],
   "source": [
    "USE SCHEMA snowflake_sample_data.tpch_sf1;\n",
    "\n",
    "-- retrieve all records from one of the smaller tables\n",
    "SELECT * \n",
    "FROM NATION;"
   ]
  },
  {
   "cell_type": "code",
   "execution_count": null,
   "id": "7e279da1-0181-4a17-ac70-50032adf351f",
   "metadata": {
    "collapsed": false,
    "language": "sql",
    "name": "cell25"
   },
   "outputs": [],
   "source": [
    "-- get a row count of the largest table\n",
    "SELECT COUNT(*) \n",
    "FROM LINEITEM;"
   ]
  },
  {
   "cell_type": "code",
   "execution_count": null,
   "id": "c550b9b3-8da0-4e85-aa7c-889c83eccb20",
   "metadata": {
    "language": "sql",
    "name": "cell26"
   },
   "outputs": [],
   "source": [
    "-- find the earliest and latest dates for orders placed\n",
    "SELECT MIN(O_ORDERDATE),\n",
    "       MAX(O_ORDERDATE) \n",
    "FROM ORDERS;"
   ]
  },
  {
   "cell_type": "code",
   "execution_count": null,
   "id": "6ee636fa-7d35-4596-a533-5f235337d319",
   "metadata": {
    "language": "sql",
    "name": "cell27"
   },
   "outputs": [],
   "source": [
    "-- filter records in the SUPPLIER table using a WHERE clause\n",
    "SELECT * \n",
    "FROM SUPPLIER\n",
    "WHERE s_acctbal > 9995;"
   ]
  },
  {
   "cell_type": "code",
   "execution_count": null,
   "id": "4f91535e-737c-44d2-bba3-39fb5b6652e9",
   "metadata": {
    "language": "sql",
    "name": "cell28"
   },
   "outputs": [],
   "source": [
    "-- use GROUP BY to get a count of customers by their market segment \n",
    "SELECT c_mktsegment, \n",
    "       count(*)\n",
    "FROM customer\n",
    "GROUP BY c_mktsegment\n",
    "ORDER BY c_mktsegment;"
   ]
  },
  {
   "cell_type": "markdown",
   "id": "94c40f7d-190e-4e22-be2d-d59aef9306aa",
   "metadata": {
    "collapsed": false,
    "name": "check_your_work_so_far"
   },
   "source": [
    "## Check Your Work So Far 🔎 \n",
    "\n",
    "Make sure your `(animal)_LEARNER_RL` can see all the databases and schemas that have been created. \n",
    "\n",
    "- (animal)_GARDEN_PLANTS\n",
    "    - VEGGIES schema\n",
    "    - FRUITS schema\n",
    "    - FLOWERS schema\n",
    "    \n",
    "Also, make sure there is no `PUBLIC` schema in the `(animal)_GARDEN_PLANTS` database. You were supposed to delete that, remember?\n",
    "\n",
    "You will encounter issues later if this is not fixed. "
   ]
  },
  {
   "cell_type": "markdown",
   "id": "013073d0-77e5-44bb-9724-fb9e9b0ba380",
   "metadata": {
    "collapsed": false,
    "name": "test_your_knowledge"
   },
   "source": [
    "## Test Your Knowledge. :mag_right:\n",
    "\n",
    "Run the following Python cells to present a Streamlit-driven widget and answer the questions about Snowflake features and functionality. You don't have to understand what this is doing for now. Just go ahead and run the code.\n",
    "\n",
    "You need to answer this question correctly to proceed to the next section."
   ]
  },
  {
   "cell_type": "code",
   "execution_count": null,
   "id": "e2c69587-83d9-4ecb-9d2f-a9061538731b",
   "metadata": {
    "collapsed": false,
    "language": "python",
    "name": "cell31"
   },
   "outputs": [],
   "source": [
    "st.divider()\n",
    "question = \"Which of the following statements about notebook cell status indicators is correct?\"\n",
    "options = [\"Pick selection below...\",\n",
    "           \"A) Blue dot - Indicates a cell has not been modified\", \n",
    "           \"B) Red - An error has occurred\", \n",
    "           \"C) Green - The cell is currently running\",\n",
    "           \"D) Blinking gray - The cell has paused and is waiting on user input\"]\n",
    "\n",
    "user_answer = st.radio(question, options, index=0)\n",
    "if user_answer:\n",
    "    if user_answer == \"Pick selection below...\":\n",
    "        ''\n",
    "    else:\n",
    "        answer = '9f487d86fa7e43c392aff851ffc35134'\n",
    "        response = session.sql(f\"call common_db.resources.quiz_temp('{answer}', '{user_answer}', 'False')\").collect()\n",
    "        if response:\n",
    "            value = response[0]['QUIZ_TEMP']\n",
    "        st.write(value)"
   ]
  },
  {
   "cell_type": "code",
   "execution_count": null,
   "id": "99bd4de3-8e00-4f23-b145-022c838274d2",
   "metadata": {
    "collapsed": false,
    "language": "python",
    "name": "cell32"
   },
   "outputs": [],
   "source": [
    "st.divider()\n",
    "question = \"You created the schema called VEGGIES, but when you run the SHOW SCHEMAS command in a notebook SQL cell, it does not appear.\" \\\n",
    "\" Assuming your current role has access to the schema, what options below would make the schema appear in the results?\"\n",
    "options = [\"Pick selection below...\",\n",
    "           \"A) Change your default role to SYSADMIN (and run again)\", \n",
    "           \"B) Make sure that the warehouse VEGGIES_WH is resumed (and run again)\",\n",
    "           \"C) Set your database context to (animal)_GARDEN_PLANTS with a USE DATABASE statement (and run again)\",            \n",
    "           \"D) Add \\\"all\\\" to the show schemas command (and run again)\"]\n",
    "\n",
    "user_answer = st.radio(question, options, index=0)\n",
    "if user_answer:\n",
    "    if user_answer == \"Pick selection below...\":\n",
    "        ''\n",
    "    else:\n",
    "        answer = 'c47b0fbcba673647849f38d56bb3f952'\n",
    "        response = session.sql(f\"call common_db.resources.quiz_temp('{answer}', '{user_answer}', 'False')\").collect()\n",
    "        if response:\n",
    "            value = response[0]['QUIZ_TEMP']\n",
    "        st.write(value)"
   ]
  },
  {
   "cell_type": "markdown",
   "id": "870db7dd-8eed-411c-a399-4b8b3fb49d9b",
   "metadata": {
    "collapsed": false,
    "name": "next_steps"
   },
   "source": [
    "## Next Steps\n",
    "\n",
    "If you have completed the lab steps and answered the **Knowledge Test** questions correctly, please proceed to the next Notebook when advised by your Snowflake instructor."
   ]
  }
 ]
}