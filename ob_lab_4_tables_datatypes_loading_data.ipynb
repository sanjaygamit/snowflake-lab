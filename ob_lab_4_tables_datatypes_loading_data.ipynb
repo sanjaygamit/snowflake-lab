{
 "metadata": {
  "kernelspec": {
   "display_name": "Streamlit Notebook",
   "name": "streamlit"
  },
  "lastEditStatus": {
   "notebookId": "k37vpyx4iyzo3stngzkq",
   "authorId": "6380573264452",
   "authorName": "MAGPIE07",
   "authorEmail": "",
   "sessionId": "fb0cc9ea-2871-4b48-bf81-0d79bf4c8194",
   "lastEditTime": 1745832380337
  }
 },
 "nbformat_minor": 5,
 "nbformat": 4,
 "cells": [
  {
   "cell_type": "markdown",
   "id": "3775908f-ca36-4846-8f38-5adca39217f2",
   "metadata": {
    "collapsed": false,
    "name": "tables_data_types_and_loading_data"
   },
   "source": [
    "## Tables, Data Types and Loading Data 🥋 \n",
    "\n",
    "👉 - In this lab, you will create a table to hold plant root depth values and write data into it using the `INSERT` statement. We will explore the use of `LIMIT` and the variations of `SELECT` star (*) to query data.\n",
    "\n",
    "To begin, let's grab **context information** we will use throughout this lab. \n",
    "\n",
    "- Click the **Start** button to activate this notebook.\n",
    "\n",
    "- Run the following Python cell."
   ]
  },
  {
   "cell_type": "markdown",
   "id": "b8919dc9-c720-4601-a4cd-d8c824216e00",
   "metadata": {
    "collapsed": false,
    "name": "cell2"
   },
   "source": [
    "#### :warning: Each time a new session is started for this notebook, you need to rerun the cell below to configure \"variables\" for use in later cells. :warning:"
   ]
  },
  {
   "cell_type": "code",
   "execution_count": null,
   "id": "f88ec6b3-1840-4a5e-bdba-cecca4ad1d0a",
   "metadata": {
    "codeCollapsed": false,
    "collapsed": false,
    "language": "python",
    "name": "cell3"
   },
   "outputs": [],
   "source": [
    "import streamlit as st\n",
    "from snowflake.snowpark.context import get_active_session\n",
    "session = get_active_session()\n",
    "user = session.get_current_user().strip('\"')\n",
    "your_db = user + '_DB'\n",
    "print('Your current CONTEXT information:')\n",
    "print('---------------------------------')\n",
    "print(session)\n",
    "print('Your current USER is ' + user)"
   ]
  },
  {
   "cell_type": "markdown",
   "id": "f8624c97-d451-48db-93c0-2c3d07b2e2dc",
   "metadata": {
    "collapsed": false,
    "name": "root_depth_table"
   },
   "source": [
    "## Root Depth Table\n",
    "\n",
    "### Based on the data in the image below, what should our table look like? 📓 \n",
    "\n",
    "![Vegetable details table data (image)](https://edu-cdev-images.s3.us-west-2.amazonaws.com/ob/ob_root_depth_1.png)\n",
    "\n",
    "To read more about data types like `TEXT`, see Snowflake's online documentation [here](https://docs.snowflake.com/en/sql-reference/data-types-text#data-types-for-text-strings\").\n",
    "\n",
    "To read more about data types like `NUMBER`, see Snowflake's online documentation [here](https://docs.snowflake.com/en/sql-reference/data-types-numeric#number\"). "
   ]
  },
  {
   "cell_type": "markdown",
   "id": "972941f3-2d62-4ba4-9b5e-d9c03ddf463d",
   "metadata": {
    "collapsed": false,
    "name": "cell5"
   },
   "source": [
    "### Create Your ROOT_DEPTH Table 🥋 \n",
    "\n",
    "Review the code provided below to understand the \"shape\" of the table you are about to create.\n",
    "\n",
    "Run the SQL cell. If everything goes well, you should receive the message, `Table ROOT_DEPTH successfully created. '"
   ]
  },
  {
   "cell_type": "code",
   "execution_count": null,
   "id": "fa2b2bd5-9e80-4d23-b328-1f34f298a6b0",
   "metadata": {
    "codeCollapsed": false,
    "collapsed": false,
    "language": "sql",
    "name": "cell6"
   },
   "outputs": [],
   "source": [
    "USE ROLE {{user}}_learner_rl;\n",
    "\n",
    "CREATE TABLE IF NOT EXISTS {{user}}_GARDEN_PLANTS.VEGGIES.ROOT_DEPTH (\n",
    "   ROOT_DEPTH_ID number(1), \n",
    "   ROOT_DEPTH_CODE text(1), \n",
    "   ROOT_DEPTH_NAME text(7), \n",
    "   UNIT_OF_MEASURE text(2),\n",
    "   RANGE_MIN number(2),\n",
    "   RANGE_MAX number(2)\n",
    "   );"
   ]
  },
  {
   "cell_type": "markdown",
   "id": "ff186654-8c66-43f9-8ef0-d2ddd9fed9c0",
   "metadata": {
    "collapsed": false,
    "name": "find_the_table"
   },
   "source": [
    "## Find the Table You Just Created in the Object Browser in the Notebooks Sidebar 🥋 \n",
    "\n",
    "- Open the **Databases** Object Browser to the left of your notebook.\n",
    "\n",
    "- Locate the **ROOT_DEPTH** table in the **VEGGIES** schema under the **(animal)_GARDEN_PLANTS** database.\n",
    "\n",
    "- Click on the **Open Table details in new tab** icon (indicated) to launch this screen in a new tab window.\n",
    "\n",
    "![Vegetable details table (image)](https://edu-cdev-images.s3.us-west-2.amazonaws.com/ob/ob_locate_root_depth_1.png)"
   ]
  },
  {
   "cell_type": "markdown",
   "id": "d6c0bd11-5eaf-449e-9ac8-fbcf0308ca15",
   "metadata": {
    "collapsed": false,
    "name": "cell8"
   },
   "source": [
    "### What if you can't find it? 📓\n",
    "\n",
    "- Refresh the Snowsight **Databases** object browser to the left of the notebook.\n",
    "\n",
    "- Refresh the browser tab. \n",
    "\n",
    "- Check your role in Snowsight (bottom left). Is this the same role you created the table using the code above?\n",
    "\n",
    "- Use the **Search objects** box at the top of the Snowsight **Databases** object browser to the notebook's left.\n",
    "\n",
    "### What if you did something wrong? 📓 \n",
    "\n",
    "- Did you name it wrong? Rename it!\n",
    "\n",
    "- Does the wrong role own it? Transfer the ownership!\n",
    "\n",
    "- Is it in the wrong database or schema? Move it!! \n",
    "\n",
    "For example:\n",
    "\n",
    "- Use `ALTER TABLE` to change the name if you misspelled it.\n",
    "\n",
    "- Use `ALTER TABLE` to MOVE the table if you put it in the wrong place.\n",
    "\n",
    "💡 **TIP**: Use the example code below and amend, uncomment, and run, as necessary, to correct any issues.\n",
    "\n",
    "💡 **HINT**: the `{{user}}` code will automatically write your animal username into the query, so you don't need to adjust this."
   ]
  },
  {
   "cell_type": "code",
   "execution_count": null,
   "id": "04148a0a-a023-48d4-bb78-f8c800c022ab",
   "metadata": {
    "codeCollapsed": false,
    "collapsed": false,
    "language": "sql",
    "name": "cell9"
   },
   "outputs": [],
   "source": [
    "-- sample resolutions\n",
    "\n",
    "-- ALTER TABLE {{user}}_garden_plants.veggies.rootdeath RENAME TO {{user}}_garden_plants.veggies.root_depth;\n",
    "\n",
    "-- ALTER TABLE {{user}}_garden_plants.flowers.root_depth RENAME TO {{user}}_garden_plants.veggies.root_depth;"
   ]
  },
  {
   "cell_type": "markdown",
   "id": "05b0b6c6-9c25-4c52-9420-79651f089403",
   "metadata": {
    "collapsed": false,
    "name": "view_the_definition"
   },
   "source": [
    "## View the Definition of Your Table 🥋 \n",
    "\n",
    "Notice that the SQL code shown is **different** than the SQL code we ran. Snowflake made some changes behind the scenes!\n",
    "\n",
    "- Can you spot the differences?\n",
    "\n",
    "![ROOT_DEPTH table definition (image)](https://edu-cdev-images.s3.us-west-2.amazonaws.com/ob/ob_view_root_depth_def_1.png)"
   ]
  },
  {
   "cell_type": "markdown",
   "id": "a621dc61-1a00-4d5d-9910-2007de3d3133",
   "metadata": {
    "collapsed": false,
    "name": "insert_a_row_of_data_into_your_new_table"
   },
   "source": [
    "## Insert a Row of Data into Your New Table \n",
    "\n",
    "### Getting Rows of Data Into a Table 📓\n",
    "\n",
    "Now that you have a table, you'll want to put some data into it. There are many ways to get data into tables, but we'll start with the simplest and move through several options. Moving away from the simplest options, we will learn more efficient and effective data-loading methods. \n",
    "\n",
    "Before the end of this workshop, you will have experience loading data: \n",
    "\n",
    "- Using an `INSERT` statement from the Worksheet. \n",
    "\n",
    "- Using the Load Data Wizard.\n",
    "\n",
    "- Using `COPY INTO` statements."
   ]
  },
  {
   "cell_type": "markdown",
   "id": "e9341e9a-983b-4079-8848-6dd772f31f7f",
   "metadata": {
    "collapsed": false,
    "name": "cell12"
   },
   "source": [
    "### Use the Data Preview Option 🥋  \n",
    "\n",
    "Before you load a row of data into your table, first take note that currently, your table has zero rows. There are two ways we can quickly access this information:\n",
    "\n",
    "1. Using the **Table details** screen you opened in the example above, switch from the **Table Details** to the **Data Preview** tab.\n",
    "\n",
    "1. If asked, then select a Warehouse you have access to. \n",
    "\n",
    "![Preview ROOT_DEPTH data 1 (image)](https://edu-cdev-images.s3.us-west-2.amazonaws.com/ob/ob_root_depth_zero_rows_1.png)\n",
    "\n",
    "1. Alternatively, find the table in the Object Browser under the Databases tab next to this notebook. \n",
    "\n",
    "1. Click the table name and an object details pane will appear below.\n",
    "\n",
    "1. Click on the magnifying glass symbol to preview the data in the table (empty for this table now).\n",
    "\n",
    "![Preview ROOT_DEPTH data 2 (image)](https://edu-cdev-images.s3.us-west-2.amazonaws.com/ob/ob_root_depth_zero_rows_2.png)"
   ]
  },
  {
   "cell_type": "markdown",
   "id": "89cf88ef-2898-4160-a2ff-f0e9e5790975",
   "metadata": {
    "collapsed": false,
    "name": "cell13"
   },
   "source": [
    "### Insert One Row into Your ROOT_DEPTH Table Using the Insert Statement Below 🥋 \n",
    "\n",
    "1. Run the statement in the SQL cell below. \n",
    "\n",
    "1. **THEN** use one of the Data Preview methods above to view the row of data you just added.  \n",
    "\n",
    "💡 **TIP**: you can set the context (database and schema) using code instead of entering the fully qualified name of an object each time you reference it."
   ]
  },
  {
   "cell_type": "code",
   "execution_count": null,
   "id": "01fe831d-6d9e-4f36-841f-58b90a7cd143",
   "metadata": {
    "codeCollapsed": false,
    "collapsed": false,
    "language": "sql",
    "name": "cell14"
   },
   "outputs": [],
   "source": [
    "USE SCHEMA {{user}}_GARDEN_PLANTS.VEGGIES;\n",
    "\n",
    "INSERT INTO ROOT_DEPTH (\n",
    "    ROOT_DEPTH_ID,\n",
    "    ROOT_DEPTH_CODE,\n",
    "    ROOT_DEPTH_NAME,\n",
    "    UNIT_OF_MEASURE,\n",
    "    RANGE_MIN,\n",
    "    RANGE_MAX\n",
    ")\n",
    "VALUES (\n",
    "    1,\n",
    "    'S',\n",
    "    'Shallow',\n",
    "    'cm',\n",
    "    30,\n",
    "    45\n",
    ");"
   ]
  },
  {
   "cell_type": "markdown",
   "id": "b7008ae5-1826-4e84-aed9-1bca0619e278",
   "metadata": {
    "collapsed": false,
    "name": "the_dreaded_does_not_exist"
   },
   "source": [
    "## The Dreaded \"Does Not Exist or Not Authorized\" Error ❗ \n",
    "\n",
    "Sometimes, when running queries, you may see this message: **Table 'TABLE_NAME' does not exist or not authorized.**\n",
    "\n",
    "\n",
    "It's not that hard to fix. You either change your role, change the context you are set in, or fully qualify the object name by adding its full location.\n",
    "\n",
    "Sometimes, you need to change the ownership on something so it shows up. Sometimes, you have to rename or move it. Ask yourself \"Where am I looking for this thing? Is that where it is? Is that what it's named?\" and \"Who is looking for it? Does that role have access to it?\"\n",
    "\n",
    "To fix the issue you can either:\n",
    "\n",
    "1. Reset your context (consider issuing a `USE DATABASE` or `USE SCHEMA` command).\n",
    "\n",
    "1. Use the long (full) name when referring to objects. E.g. `(animal)_GARDEN_PLANTS.VEGGIES.ROOT_DEPTH` _(database.schema.table)_."
   ]
  },
  {
   "cell_type": "markdown",
   "id": "15ee7d45-0fec-46b5-a878-e8e099955504",
   "metadata": {
    "collapsed": false,
    "name": "select_stars_and_limits"
   },
   "source": [
    "## Select Stars and Limits 📓\n",
    "\n",
    "A Select Star statement starts with \"`SELECT *`\" (which is technically an asterisk). \"Select Asterisk\" takes longer to say. A Select Star is a way to ask for all columns in the table without listing them one by one."
   ]
  },
  {
   "cell_type": "markdown",
   "id": "fdc46713-5d0c-47fb-9205-d05d398e6c8f",
   "metadata": {
    "collapsed": false,
    "name": "cell17"
   },
   "source": [
    "### How to Run a Select Star on Your New Table 🥋\n",
    "\n",
    "See if you can modify the sample code in the following SQL cell to write a query to select all records from your new `ROOT_DEPTH` table.\n",
    "\n",
    "- Replace the hash (`#`) characters in the following statement with the appropriate syntax."
   ]
  },
  {
   "cell_type": "code",
   "execution_count": null,
   "id": "a60ac1fa-d323-42d1-bba3-aad892390f5e",
   "metadata": {
    "codeCollapsed": false,
    "collapsed": false,
    "language": "sql",
    "name": "cell18"
   },
   "outputs": [],
   "source": "-- modify this sample code\nSELECT * FROM MAGPIE07_GARDEN_PLANTS.VEGGIES.ROOT_DEPTH;"
  },
  {
   "cell_type": "markdown",
   "id": "dd7d6f92-7a4b-4ac5-b3e2-a8a468c4ed9c",
   "metadata": {
    "collapsed": false,
    "name": "cell19"
   },
   "source": [
    "### Select star variations. 📓\n",
    "\n",
    "When working with Select Star, Snowflake offers some SQL-sugar - options to help you minimize the typing required and still tailor the output, which is super helpful when working with tables, table functions, and views with many columns. It's no fun manually typing out tens or hundreds of column names for a query. There are better things to do with your time!\n",
    "\n",
    "When you specify `SELECT *`, you can include the following options: `EXCLUDE`, `REPLACE`, `RENAME`, and `ILIKE`.\n",
    "\n",
    "- `EXCLUDE`: will return all columns, except those specified for exclusion.\n",
    "- `REPLACE`: will return all columns and replace the value of the named column(s) with the value of an evaluated expression.\n",
    "- `RENAME`:  will return all columns, and specifies the column aliases that should be used in the results.\n",
    "- `ILIKE`:   will return all columns that match the specified pattern."
   ]
  },
  {
   "cell_type": "markdown",
   "id": "f8d5c07e-6228-4958-a94f-9926bddd857e",
   "metadata": {
    "collapsed": false,
    "name": "cell20"
   },
   "source": [
    "### Try the examples below on your new table to tailor the column output with these shorthand variations."
   ]
  },
  {
   "cell_type": "code",
   "execution_count": null,
   "id": "d60250ef-2a5c-4d8a-bb6f-ce086a7fedd7",
   "metadata": {
    "codeCollapsed": false,
    "collapsed": false,
    "language": "sql",
    "name": "cell21"
   },
   "outputs": [],
   "source": [
    "-- return all columns from your table, except those in the exclusion list, using EXCLUDE\n",
    "\n",
    "SELECT * EXCLUDE (range_min, range_max)\n",
    "FROM ROOT_DEPTH;"
   ]
  },
  {
   "cell_type": "code",
   "execution_count": null,
   "id": "523769ae-15f3-45a2-b417-23a47bf4a5ff",
   "metadata": {
    "codeCollapsed": false,
    "collapsed": false,
    "language": "sql",
    "name": "cell22"
   },
   "outputs": [],
   "source": [
    "-- return all columns from your table, and append the String '-RDC' to the values in the root_depth_code column, using REPLACE\n",
    "\n",
    "SELECT * REPLACE (root_depth_code||'-RDC' AS root_depth_code)\n",
    "FROM ROOT_DEPTH;"
   ]
  },
  {
   "cell_type": "code",
   "execution_count": null,
   "id": "af0c75d9-af66-44c9-88fd-45bb26096608",
   "metadata": {
    "codeCollapsed": false,
    "collapsed": false,
    "language": "sql",
    "name": "cell23"
   },
   "outputs": [],
   "source": [
    "-- return all columns from your table, and change the title/header for the range columns, using RENAME\n",
    "\n",
    "SELECT * RENAME (range_min AS root_depth_range_min, \n",
    "                 range_max AS root_depth_range_max)\n",
    "FROM ROOT_DEPTH;"
   ]
  },
  {
   "cell_type": "code",
   "execution_count": null,
   "id": "beb777c1-95bc-4b69-93c5-a588df8e6f52",
   "metadata": {
    "codeCollapsed": false,
    "collapsed": false,
    "language": "sql",
    "name": "cell24"
   },
   "outputs": [],
   "source": [
    "-- return all columns from your table that contain the string `ROOT`, using ILIKE\n",
    "\n",
    "SELECT * ILIKE '%ROOT%'\n",
    "FROM ROOT_DEPTH;"
   ]
  },
  {
   "cell_type": "markdown",
   "id": "9a676605-2c46-4783-9cb9-7ad2f7169703",
   "metadata": {
    "collapsed": false,
    "name": "cell25"
   },
   "source": [
    "### Learning About Select Stars & Limits 📓  \n",
    "\n",
    "If you want all columns but not all rows, you can run a Select Star with a `LIMIT`. Limits make sure that you get just a small set of rows. That way, if there are millions of rows, you won't waste compute power, getting all of them, if all you want to see are a few.   \n",
    "\n",
    "Of course, our table only has one row right now, but later it will have more rows, and later we'll have other tables we create that we load with many more."
   ]
  },
  {
   "cell_type": "code",
   "execution_count": null,
   "id": "a3b264f9-b358-409e-9484-600db36c7952",
   "metadata": {
    "language": "sql",
    "name": "cell26"
   },
   "outputs": [],
   "source": [
    "SELECT *\n",
    "FROM ROOT_DEPTH\n",
    "LIMIT 1;"
   ]
  },
  {
   "cell_type": "markdown",
   "id": "9ca382c3-c093-4418-ac4e-e12f4500a822",
   "metadata": {
    "collapsed": false,
    "name": "lesson_4_challenge_exercise"
   },
   "source": [
    "## Lesson 4 Challenge Exercise 🎯 \n",
    "\n",
    "### Add two more rows to the ROOT_DEPTH table. 🎯 \n",
    "\n",
    "Edit the original `INSERT` statement you used earlier in the following SQL cells, and run them both to add two rows to your **ROOT_DEPTH** table. \n",
    "\n",
    "- Replace the hash (`#`) characters with the values you can see in the image below for those rows.\n",
    "\n",
    "![ROOT_DEPTH add rows (image)](https://edu-cdev-images.s3.us-west-2.amazonaws.com/ob/ob_root_depth_add_rows_1.png)"
   ]
  },
  {
   "cell_type": "code",
   "execution_count": null,
   "id": "a25ba0dc-bb8f-425f-acb3-0c40db398682",
   "metadata": {
    "codeCollapsed": false,
    "collapsed": false,
    "language": "sql",
    "name": "cell28"
   },
   "outputs": [],
   "source": "-- Edit the values (replace the # characters) in the cell to match those in the SECOND row of the image above, then run \n\nINSERT INTO ROOT_DEPTH (\n    ROOT_DEPTH_ID,\n    ROOT_DEPTH_CODE,\n    ROOT_DEPTH_NAME,\n    UNIT_OF_MEASURE,\n    RANGE_MIN,\n    RANGE_MAX\n)\nVALUES (\n    2,\n    'M',\n    'Medium',\n    'cm',\n    45,\n    60\n);"
  },
  {
   "cell_type": "code",
   "execution_count": null,
   "id": "ef133f09-dd29-495a-abcf-905fbe27f8f1",
   "metadata": {
    "codeCollapsed": false,
    "collapsed": false,
    "language": "sql",
    "name": "cell29"
   },
   "outputs": [],
   "source": "-- Edit the values (replace the # characters) in the cell to match those in the THIRD row of the image above, then run\n\nINSERT INTO ROOT_DEPTH (\n    ROOT_DEPTH_ID,\n    ROOT_DEPTH_CODE,\n    ROOT_DEPTH_NAME,\n    UNIT_OF_MEASURE,\n    RANGE_MIN,\n    RANGE_MAX\n)\nVALUES (\n    3,\n    'D',\n    'Deep',\n    'cm',\n    30,\n    45\n);"
  },
  {
   "cell_type": "markdown",
   "id": "22f05c1b-9f4e-45c4-9b5d-b90f29afb72e",
   "metadata": {
    "collapsed": false,
    "name": "cell30"
   },
   "source": [
    "### Review results. 🥋\n",
    "\n",
    "- Run `SELECT *` to view all three rows of your **ROOT_DEPTH** table. \n",
    "\n",
    "- Compare your results with the image shown above. "
   ]
  },
  {
   "cell_type": "code",
   "execution_count": null,
   "id": "a83f4c27-e6b1-4a92-9e2b-5b0fef63152b",
   "metadata": {
    "codeCollapsed": false,
    "collapsed": false,
    "language": "sql",
    "name": "cell31"
   },
   "outputs": [],
   "source": "select * \nFROM ROOT_DEPTH ;"
  },
  {
   "cell_type": "markdown",
   "id": "817eb7c5-88e8-49c7-abde-e51214589d8a",
   "metadata": {
    "collapsed": false,
    "name": "new_to_sql_need_some_help"
   },
   "source": [
    "## New to SQL? Need Some Help? Check Out the Code Samples Below 📓\n",
    "\n",
    "These are just examples to show you how to perform certain actions using SQL. Please do not run this code without editing it to fit your needs.\n",
    "\n",
    "### Example one - add more than one row at a time.\n",
    "\n",
    "    INSERT INTO root_depth (\n",
    "    \n",
    "        root_depth_id, root_depth_code, root_depth_name, unit_of_measure, range_min, range_max)  \n",
    "\n",
    "    VALUES\n",
    "    \n",
    "        (5,'X','short','in',66,77),\n",
    "    \n",
    "        (8,'Y','tall','cm',98,99);\n",
    "\n",
    "    \n",
    "### Example two - remove a row you do not want in the table.\n",
    "\n",
    "    DELETE FROM root_depth\n",
    "\n",
    "    WHERE root_depth_id = 9;\n",
    "\n",
    "### Example three - change a value in a column for one particular row.\n",
    "\n",
    "    UPDATE root_depth\n",
    "\n",
    "        SET root_depth_id = 7\n",
    "\n",
    "    WHERE root_depth_id = 9;\n",
    "\n",
    "### Example four - remove all the rows from the table to start over.\n",
    "\n",
    "    TRUNCATE TABLE root_depth;"
   ]
  },
  {
   "cell_type": "markdown",
   "id": "b020486e-58f9-4d85-8511-a76889cb5f34",
   "metadata": {
    "collapsed": false,
    "name": "lab_4_review"
   },
   "source": [
    "## Lab 4 Review 🏁 \n",
    "\n",
    "### Are you ready for Lab 5?\n",
    "\n",
    "- Does the **(animal)_GARDEN_PLANTS** database have 4 Schemas? \n",
    "\n",
    "- Does the **VEGGIES** Schema have a single table called **ROOT_DEPTH** with 3 rows in it? \n",
    "\n",
    "If you answer **YES** to all of these, you should proceed. If not, you should go back and fix anything that isn't right!"
   ]
  },
  {
   "cell_type": "markdown",
   "id": "3635a7c7-ce2c-4a41-90e8-4ef0494db494",
   "metadata": {
    "collapsed": false,
    "name": "test_your_knowledge"
   },
   "source": [
    "## Test Your Knowledge. 🔎\n",
    "\n",
    "Run the following Python cell to present a Streamlit-driven widget and answer the questions about Snowflake features and functionality. You don't have to understand what this is doing for now. Just go ahead and run the code.\n",
    "\n",
    "You need to answer these questions correctly to proceed to the next section."
   ]
  },
  {
   "cell_type": "code",
   "execution_count": null,
   "id": "5f301ac5-6327-4d6a-ac63-050428fe5234",
   "metadata": {
    "codeCollapsed": false,
    "collapsed": false,
    "language": "python",
    "name": "cell35"
   },
   "outputs": [],
   "source": [
    "import streamlit as st\n",
    "st.divider()\n",
    "question = \"Snowflake made minor changes to the SQL as it created the table. What changes were made?\"\n",
    "options = [\"Pick selection below...\",\n",
    "           \"A) Snowflake changed the name of the table\", \n",
    "           \"B) Snowflake converted the NUMBER data type to VARCHAR\", \n",
    "           \"C) Snowflake converted the TEXT data type to VARCHAR\",\n",
    "           \"D) Snowflake changed the owner to SYSADMIN\"]\n",
    "\n",
    "user_answer = st.radio(question, options, index=0)\n",
    "if user_answer:\n",
    "    if user_answer == \"Pick selection below...\":\n",
    "        ''\n",
    "    else:\n",
    "        answer = '75fdf5c1968ee7ed63d1f09b5ce4d7f0'\n",
    "        response = session.sql(f\"call common_db.resources.quiz_temp('{answer}', '{user_answer}', 'False')\").collect()\n",
    "        if response:\n",
    "            value = response[0]['QUIZ_TEMP']\n",
    "        st.write(value)"
   ]
  },
  {
   "cell_type": "code",
   "execution_count": null,
   "id": "1bc31ace-a6f0-4da5-8a64-7f7895c9ff98",
   "metadata": {
    "codeCollapsed": false,
    "collapsed": false,
    "language": "python",
    "name": "cell36"
   },
   "outputs": [],
   "source": [
    "st.divider()\n",
    "question = \"How can you PREVIEW data in a table while in an Notebook?\"\n",
    "options = [\"Pick selection below...\",\n",
    "           \"A) You can find the table in the Object Picker, click on the table name, then click on the magnifying glass symbol\", \n",
    "           \"B) You can set your notebook context TABLE dropdown menu to PREVIEW, which is designed for data previewing\", \n",
    "           \"C) You can set your notebook context ROLE dropdown menu to PUBLIC, which is designed for data previewing\",\n",
    "           \"D) You can right-click on the table name and choose the \\\"Table Preview Now\\\" option\"]\n",
    "           \n",
    "user_answer = st.radio(question, options, index=0)\n",
    "if user_answer:\n",
    "    if user_answer == \"Pick selection below...\":\n",
    "        ''\n",
    "    else:\n",
    "        answer = 'bf0d671d784a5f38f147d292dce56560'\n",
    "        response = session.sql(f\"call common_db.resources.quiz_temp('{answer}', '{user_answer}', 'False')\").collect()\n",
    "        if response:\n",
    "            value = response[0]['QUIZ_TEMP']\n",
    "        st.write(value)"
   ]
  },
  {
   "cell_type": "code",
   "execution_count": null,
   "id": "373207e2-391a-430f-9f83-eb653eaa980f",
   "metadata": {
    "codeCollapsed": false,
    "collapsed": false,
    "language": "python",
    "name": "cell37"
   },
   "outputs": [],
   "source": [
    "st.divider()\n",
    "question = \"What is the role of a LIMIT in a SELECT statement?\"\n",
    "options = [\"Pick selection below...\",\n",
    "           \"A) You can use it to quickly ask for a limited set of rows\", \n",
    "           \"B) You can use it to quickly ask for a limited set of tables\", \n",
    "           \"C) You can use it to quickly ask for a limited set of columns\",\n",
    "           \"D) You can use it to quickly ask for a limited set of schemas\"]\n",
    " \n",
    "user_answer = st.radio(question, options, index=0)\n",
    "if user_answer:\n",
    "    if user_answer == \"Pick selection below...\":\n",
    "        ''\n",
    "    else:\n",
    "        answer = 'b3b410e62b13f21ab8e2f2982d5841aa'\n",
    "        response = session.sql(f\"call common_db.resources.quiz_temp('{answer}', '{user_answer}', 'False')\").collect()\n",
    "        if response:\n",
    "            value = response[0]['QUIZ_TEMP']\n",
    "        st.write(value)"
   ]
  },
  {
   "cell_type": "code",
   "execution_count": null,
   "id": "63013092-07d9-42ab-885c-0c107eee9e71",
   "metadata": {
    "codeCollapsed": false,
    "collapsed": false,
    "language": "python",
    "name": "cell38"
   },
   "outputs": [],
   "source": [
    "st.divider()\n",
    "question = \"Which Role should own your ROOT_DEPTH table created earlier?\"\n",
    "options = [\"Pick selection below...\",\n",
    "           \"A) ACCOUNTADMIN\", \n",
    "           \"B) SYSADMIN\", \n",
    "           \"C) PUBLIC\",\n",
    "           \"D) Your (animal)_LEARNER_RL\"]\n",
    "\n",
    "user_answer = st.radio(question, options, index=0)\n",
    "if user_answer:\n",
    "    if user_answer == \"Pick selection below...\":\n",
    "        ''\n",
    "    else:\n",
    "        answer = 'a5b26f2fdb650acdac0defa198792bb3'\n",
    "        response = session.sql(f\"call common_db.resources.quiz_temp('{answer}', '{user_answer}', 'False')\").collect()\n",
    "        if response:\n",
    "            value = response[0]['QUIZ_TEMP']\n",
    "        st.write(value)"
   ]
  },
  {
   "cell_type": "markdown",
   "id": "7ddcbca4-75c4-4e72-bf75-f1f80a7253a6",
   "metadata": {
    "collapsed": false,
    "name": "next_steps"
   },
   "source": [
    "## Next Steps\n",
    "\n",
    "If you have completed the lab steps and answered the **Knowledge Test** questions correctly, please proceed to the next Notebook when advised by your Snowflake instructor."
   ]
  }
 ]
}