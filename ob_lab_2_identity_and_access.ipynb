{
 "metadata": {
  "kernelspec": {
   "display_name": "Streamlit Notebook",
   "name": "streamlit"
  },
  "lastEditStatus": {
   "notebookId": "2rkfttc7jmg4c4zdu4pn",
   "authorId": "6380573264452",
   "authorName": "MAGPIE07",
   "authorEmail": "",
   "sessionId": "6624d7b0-8318-4932-8e8f-ea80648278d3",
   "lastEditTime": 1745825083818
  }
 },
 "nbformat_minor": 5,
 "nbformat": 4,
 "cells": [
  {
   "cell_type": "markdown",
   "id": "3775908f-ca36-4846-8f38-5adca39217f2",
   "metadata": {
    "collapsed": false,
    "name": "lab_2_identity_and_access"
   },
   "source": [
    "# Lab 2: Identity and Access\n",
    "\n",
    "👉 In this lesson, we'll learn how to create databases using Snowsight (Snowflake's web UI) and administer access to objects such as databases, schemas, and tables.\n",
    "\n",
    "To begin, let's grab **context information** we will use throughout this lab. \n",
    "\n",
    "- Click the **Start** button to activate this notebook.\n",
    "\n",
    "- Run the following Python cell."
   ]
  },
  {
   "cell_type": "markdown",
   "id": "15838f1d-e21a-4747-be0c-0986b1e15bd3",
   "metadata": {
    "collapsed": false,
    "name": "cell2"
   },
   "source": [
    "#### :warning: Each time a new session is started for this notebook, you need to rerun the cell below to configure \"variables\" for use in later cells. :warning:"
   ]
  },
  {
   "cell_type": "code",
   "execution_count": null,
   "id": "c070c7b1-3e12-4c8a-a3d7-a6babb1707fb",
   "metadata": {
    "collapsed": false,
    "language": "python",
    "name": "cell3"
   },
   "outputs": [],
   "source": [
    "import streamlit as st\n",
    "from snowflake.snowpark.context import get_active_session\n",
    "session = get_active_session()\n",
    "user = session.get_current_user().strip('\"')\n",
    "your_db = user + '_DB'\n",
    "print('Your current CONTEXT information:')\n",
    "print('---------------------------------')\n",
    "print(session)\n",
    "print('Your current USER is ' + user)"
   ]
  },
  {
   "cell_type": "markdown",
   "id": "86d09ae5-34de-4350-9d04-78df584466f2",
   "metadata": {
    "collapsed": false,
    "name": "create_a_new_database"
   },
   "source": [
    "## Create a New Database 📓\n",
    "\n",
    "In this lab you will use the Snowsight interface to create a new database. We have listed the steps below, but first, please read through these notes and tips.\n",
    "\n",
    "- You will need to make sure to use the `(animal)_CREATE_DB_RL` role\n",
    "    - This role has been pre-created by the Education Services team.\n",
    "    - It is not a built-in system role.\n",
    "    - A minimal set of privileges have been granted to it - enough for the following lab exercises.\n",
    "\n",
    "Name the database according to the animal username you have been assigned for this class. Run the Python code block in the cell below to confirm this.\n",
    "- You don't have to understand what this is doing for now. Just go ahead, run the code, and note the output."
   ]
  },
  {
   "cell_type": "code",
   "execution_count": null,
   "id": "d5447765-8b0b-4192-9162-db6e6acb47b0",
   "metadata": {
    "collapsed": false,
    "language": "python",
    "name": "cell5"
   },
   "outputs": [],
   "source": [
    "print('Use this name for your new database: ' + your_db)"
   ]
  },
  {
   "cell_type": "markdown",
   "id": "4e197a0c-2601-4deb-9f56-f79dc1236965",
   "metadata": {
    "collapsed": false,
    "name": "cell6"
   },
   "source": [
    "### Open the Database page in a new browser tab or window. 🥋\n",
    "\n",
    "Open the Snowsight Object Browser in a new browser tab or window.\n",
    "\n",
    "1. Hover over the **Databases** icon to the left of your Notebook.\n",
    "\n",
    "1. Right-click on the **Databases** link that appears in the dialog that appears and select your preferred target - a new tab or a new window.\n",
    "\n",
    "1. Taking this action means we leave this Snowflake Notebook page uninterrupted and can switch back to its instructions easily.\n",
    "\n",
    "![Open Databases page (image)](https://edu-cdev-images.s3.us-west-2.amazonaws.com/ob/ob_open_databases_page_1.png)"
   ]
  },
  {
   "cell_type": "markdown",
   "id": "69ae0530-3196-4043-a799-2a62978675f2",
   "metadata": {
    "collapsed": false,
    "name": "cell7"
   },
   "source": [
    "### Create the new database. 🥋\n",
    "\n",
    "1. Ensure you are set to `(animal)_CREATE_DB_RL` in the role selector, bottom left (where **animal** is your assigned username).\n",
    "\n",
    "1. Click the blue **+ Database** button, top right.\n",
    "\n",
    "1. Enter the name for your database in the **Name** field in the dialog box (leave Comment empty). Use the name provided a few cells above this one.\n",
    "\n",
    "1. Click the **Create** button.\n",
    "\n",
    "![Create Databases path (image)](https://edu-cdev-images.s3.us-west-2.amazonaws.com/ob/ob_create_database_dialog_1.png)\n",
    "\n",
    "### Review the new database in the Object Browser.\n",
    "\n",
    "1. :eyes: :point_right: Your new database should appear under the Object Browser and as a line item under the Databases listing page to the right of the middle column.\n",
    "\n",
    "![Databases listing page (image)](https://edu-cdev-images.s3.us-west-2.amazonaws.com/ob/ob_databases_listing_page_1.png)"
   ]
  },
  {
   "cell_type": "markdown",
   "id": "733d657b-63c1-4710-933a-2e2c2e1396b1",
   "metadata": {
    "collapsed": false,
    "name": "cell8"
   },
   "source": [
    "### Run code to confirm the database has been created. 🥋\n",
    "\n",
    "We can **also** run SQL commands to confirm that your database object has been created. Try out the `SHOW` command. This is useful for viewing general information about objects in your Snowflake environment.\n",
    "\n",
    ":flashlight:  We saved the name of your database in a Python variable earlier. We can use this in cells in our notebook by referencing it inside two sets of squiggly brackets {{}}. Snowflake will replace this placeholder with the saved value before running the command in the cell. \n",
    "\n",
    "💡 **Hint:** Note that we use code to explicitly set our context in the following SQL cell to use the role `(animal)_CREATE_DB_RL`. Snowflake Notebooks do not automatically inherit the role from the Snowsight window in which they are running. Instead, they operate independently, each maintaining its own Snowflake session."
   ]
  },
  {
   "cell_type": "code",
   "execution_count": null,
   "id": "83fb8658-b43e-4c11-9e46-edfbc026c31e",
   "metadata": {
    "collapsed": false,
    "language": "sql",
    "name": "cell9"
   },
   "outputs": [],
   "source": [
    "USE ROLE {{user}}_create_db_rl;\n",
    "SHOW DATABASES LIKE '%{{your_db}}%';"
   ]
  },
  {
   "cell_type": "markdown",
   "id": "9b4f2865-92a7-4287-a89d-f4fd0ef27f0a",
   "metadata": {
    "collapsed": false,
    "name": "cell10"
   },
   "source": [
    "### Switch your role to `(animal)_LEARNER_RL`. 🥋\n",
    "\n",
    "1. Using the **Databases** page you opened in a new window or tab, locate the role selector in the bottom-left of the Snowsight interface.\n",
    "\n",
    "1. Change the currently selected role from `(animal)_CREATE_DB_RL` to `(animal)_LEARNER_RL`.\n",
    "\n",
    "You may need to refresh the Object Browser (circular arrow at top) or even the web browser tab to see the role change effects.\n",
    "\n",
    ":eyes: :point_right:  Your new database should **DISAPPEAR** from view in the Object Browser and Database listing panes.\n",
    "\n",
    "![Databases listing page 2 (image)](https://edu-cdev-images.s3.us-west-2.amazonaws.com/ob/ob_databases_listing_page_2.png)"
   ]
  },
  {
   "cell_type": "markdown",
   "id": "3d272aa2-5f02-4924-8d62-20c7a46028d8",
   "metadata": {
    "collapsed": false,
    "name": "explore_your_database"
   },
   "source": [
    "## Explore Your Database 🥋\n",
    "\n",
    "### Switch your role back to `(animal)_CREATE_DB_RL`\n",
    "\n",
    "1. Locate the role selector in the bottom-left of the Snowsight interface.\n",
    "\n",
    "1. Change the currently selected role from `(animal)_LEARNER_RL` to `(animal)_CREATE_DB_RL`.\n",
    "\n",
    "You may need to refresh the Object Browser (circular arrow at top) or even the web browser tab to see the role change effects.\n",
    "\n",
    ":eyes: :point_right: Your new database should **REAPPEAR** in the Object Browser and Database listing panes.\n",
    "\n",
    "![Databases listing page (image)](https://edu-cdev-images.s3.us-west-2.amazonaws.com/ob/ob_databases_listing_page_1.png)"
   ]
  },
  {
   "cell_type": "markdown",
   "id": "7d367579-9e44-4373-8cdb-96fd4cc1dd9d",
   "metadata": {
    "collapsed": false,
    "name": "cell12"
   },
   "source": [
    "\n",
    "### Explore the Database You Created 🥋\n",
    "\n",
    "1. Using the Database page shown above, click on your new database name in the middle column.\n",
    "\n",
    "1. :eyes: :point_right: A list of schemas for your new database unfolds, and related information for both **Database Details** and **Schemas** can be accessed in the right panel.\n",
    "\n",
    "1. Note also that when we select a database in the Object Browser, a blue `+ Schema` schema-creation button appears at the top right.\n",
    "\n",
    "![Databases listing page 3(image)](https://edu-cdev-images.s3.us-west-2.amazonaws.com/ob/ob_databases_listing_page_3.png)"
   ]
  },
  {
   "cell_type": "markdown",
   "id": "7cd6a506-18d3-4150-bf33-08195ddb4586",
   "metadata": {
    "collapsed": false,
    "name": "cell13"
   },
   "source": [
    "### Run code to display additional information about the new database created.\n",
    "\n",
    "In addition to the `SHOW` command we tried earlier, we can run a `DESCRIBE` command against the new database to get a readout on the schemas it contains. Try this with the following:"
   ]
  },
  {
   "cell_type": "code",
   "execution_count": null,
   "id": "7d7361bd-ed2b-4707-a84d-dc1270757001",
   "metadata": {
    "collapsed": false,
    "language": "sql",
    "name": "cell14"
   },
   "outputs": [],
   "source": [
    "-- This will provide you with a list of schemas (automatically created for you!) inside your new database.\n",
    "DESCRIBE DATABASE {{your_db}};"
   ]
  },
  {
   "cell_type": "markdown",
   "id": "11ed25b0-2b9a-41b4-811c-a4da57262c86",
   "metadata": {
    "collapsed": false,
    "name": "databases_and_schemas"
   },
   "source": [
    "## Databases and Schemas. 📓\n",
    "\n",
    "Databases group datasets (tables and other objects) together. A second-level organizational grouping within a database is called a **schema**. Every time you create a database, Snowflake will **automatically** create two schemas for you.\n",
    "\n",
    "1. The `INFORMATION_SCHEMA` schema holds a collection of views. The `INFORMATION_SCHEMA` schema cannot be deleted (dropped), renamed, or moved.\n",
    "\n",
    "1. The `PUBLIC` schema is created empty, and you can populate it with tables, views, and other objects over time. The `PUBLIC` schema can be dropped, renamed, or moved anytime.  "
   ]
  },
  {
   "cell_type": "markdown",
   "id": "5316144f-4b24-4055-9566-19c61f1335c6",
   "metadata": {
    "collapsed": false,
    "name": "transfer_ownership"
   },
   "source": [
    "## Transfer Ownership of Your Database and Schema to the Role `(animal)_LEARNER_RL`. 🥋\n",
    "\n",
    "In this exercise, we will transfer the `PUBLIC` schema in your new database, and then the database itself, to the ownership of the role `(animal)_LEARNER_RL.` The schema is an object **contained** within a database, so this will be transferred first, then the \"outer\" object - the database.\n",
    "\n",
    "Once again, we will use the Database page to complete this work.\n",
    "\n",
    "### Transfer ownership of the `PUBLIC` schema.\n",
    "\n",
    "1. Double-check that you have confirmed `(animal)_CREATE_DB_RL` in the role selector, bottom-left.\n",
    "\n",
    "1. Select your new database name.\n",
    "\n",
    "1. Then select the `PUBLIC` schema name in the Object Browser (middle column - highlighted in blue in the following image).\n",
    "\n",
    "1. Click on the ellipsis (three dots) next to the blue **+ Create** button at the top right of the Snowsight interface.\n",
    "\n",
    "1. A drop-down menu appears - select the **Transfer Ownership** option.\n",
    "\n",
    "![Databases listing page 3(image)](https://edu-cdev-images.s3.us-west-2.amazonaws.com/ob/ob_transfer_schema_ownership_1.png)\n",
    "\n",
    "1. Click the dropdown arrow for the **Transfer to** selectbox.\n",
    "\n",
    "1. You can use the **Search** option to find the role from the list - choose `(animal)_LEARNER_RL`.\n",
    "\n",
    "1. Then click the blue **Transfer** button.\n",
    "\n",
    ":eyes: :point_right: You should see a message saying _\"Ownership successfully transferred\"_ for your schema.\n",
    "\n",
    "![Transfer ownership dialog (image)](https://edu-cdev-images.s3.us-west-2.amazonaws.com/ob/ob_transfer_dialog_1.png)"
   ]
  },
  {
   "cell_type": "markdown",
   "id": "eafecead-143c-4715-b8e4-7f677332c784",
   "metadata": {
    "collapsed": false,
    "name": "cell17"
   },
   "source": [
    "### Transfer ownership of the database. 🥋\n",
    "\n",
    "Utilizing a similar workflow, we can also transfer ownership of the new database to the `(animal)_LEARNER_RL` role from the Database page.\n",
    "\n",
    "1. Double-check that you have confirmed (animal)_CREATE_DB_RL in the role selector, bottom-left.\n",
    "\n",
    "1. Select the name of your new database in the middle column of the Object Browser (highlighted in blue in the following image).\n",
    "\n",
    "1. Click on the ellipis (three dots) next to the blue `+ Schema` top right of the Snowsight interface.\n",
    "\n",
    "A dropdown menu appears - select the **Transfer Ownership** option.\n",
    "\n",
    "![Transfer database ownership (image)](https://edu-cdev-images.s3.us-west-2.amazonaws.com/ob/ob_transfer_db_ownership_1.png)\n",
    "\n",
    "1. Click the dropdown arrow for the **Transfer to** selectbox.\n",
    "\n",
    "1. You can use the **Search** option to find the role from the list - choose `(animal)_LEARNER_RL`.\n",
    "\n",
    "1. Then click the blue **Transfer** button.\n",
    "\n",
    ":eyes: :point_right: You should see a message saying _\"Ownership successfully transferred\"_ for your database."
   ]
  },
  {
   "cell_type": "markdown",
   "id": "340cf80d-fc17-4291-9bfa-89b96be01b08",
   "metadata": {
    "collapsed": false,
    "name": "cell18"
   },
   "source": [
    "### Switch Your Role Back to `(animal)_LEARNER_RL` 🥋\n",
    "\n",
    "1. Locate the role selector in the bottom-left of the Snowsight interface.\n",
    "\n",
    "1. Change the currently selected role from `(animal)_CREATE_DB_RL` to `(animal)_LEARNER_RL`.\n",
    "\n",
    "You may need to refresh the browser tab to ensure the role change has taken effect. \n",
    "\n",
    ":eyes: :point_right: Your new database and its `PUBLIC` schema should **APPEAR** in the Object Browser and Database listing panes. It will no longer be visible to the `(animal)_CREATE_DB_RL`.\n",
    "\n",
    "![Databases listing page 4 (image)](https://edu-cdev-images.s3.us-west-2.amazonaws.com/ob/ob_databases_listing_page_4.png)"
   ]
  },
  {
   "cell_type": "markdown",
   "id": "88d0fbbc-5b14-412b-a879-096caf4db6ea",
   "metadata": {
    "collapsed": false,
    "name": "how_does_changing_your_role_affect"
   },
   "source": [
    "## How Does Changing Your Role Affect What Databases You Can See? 📓 \n",
    "\n",
    "When you change your role...you change what you can **SEE** and **DO** with databases, schemas, tables, views, and more! This is easily observable when navigating about using the Snowsight interface.\n",
    "\n",
    "### Try it out. 🥋\n",
    "\n",
    "1. Select `(animal)_LEARNER_RL` using the role selector (bottom-left in Snowsight).\n",
    "\n",
    "1. View the list of Databases.\n",
    "\n",
    "1. Change your role to `(animal)_CREATE_DB_RL`.\n",
    "\n",
    "1. Notice that for some roles, not all databases are visible. How many databases can this role see now?\n",
    "\n",
    "**NOTE**: When using Snowflake, something might seem to disappear often. You may see a **\" Does Not Exist error\"** when you know the item has been created. In those instances, you should begin by checking your role!!"
   ]
  },
  {
   "cell_type": "markdown",
   "id": "c1412735-5d2d-4781-b281-94f4b86c3d86",
   "metadata": {
    "collapsed": false,
    "name": "challenge_exercise"
   },
   "source": [
    "## Challenge Exercise 🎯 \n",
    "\n",
    "This is a Challenge Exercise! Challenge Exercises differ from others because we don't give you step-by-step instructions. Instead, we give you the end goal and expect you to complete the work with the skills you learned in earlier labs. Challenge Exercises are required. \n",
    "\n",
    "Good Luck!\n",
    "\n",
    "---\n",
    "\n",
    "### Create a New Database 🎯 \n",
    "\n",
    "Create a new database and name it **(animal)_**`UTIL_DB`. This database and the `PUBLIC` schema should be owned by `(animal)_LEARNER_RL`. Run the Python code in the cell below to confirm what you should name this new database.\n",
    "\n",
    "**HINT**: If you set your role to `(animal)_LEARNER_RL` before you create the database, it will automatically be owned by this role. You won't have to do any transfers of ownership. \n",
    "\n",
    "If you forget to set your role to `(animal)_LEARNER_RL` before creating the database, you will need to transfer ownership to it. "
   ]
  },
  {
   "cell_type": "code",
   "execution_count": null,
   "id": "10ae0c87-75a2-4633-b8b0-1bc30c651a66",
   "metadata": {
    "collapsed": false,
    "language": "python",
    "name": "cell21"
   },
   "outputs": [],
   "source": [
    "your_util_db = user + '_UTIL_DB'\n",
    "print('Use this name for your new database: ' + your_util_db)"
   ]
  },
  {
   "cell_type": "markdown",
   "id": "459b832a-a718-486c-be7f-617567278f85",
   "metadata": {
    "collapsed": false,
    "name": "cell22"
   },
   "source": [
    "### Check your work. 🎯 \n",
    "\n",
    "There should be three named databases (prefixed with your unique animal username) accessible from by `(animal)_LEARNER_RL`:\n",
    "\n",
    "- (animal)**_DB**\n",
    "\n",
    "- (animal)**RESOURCES_DB**\n",
    "\n",
    "- (animal)**_UTIL_DB**\n",
    "\n",
    "You can review the listings in the Databases page in Snowsight, as we have done previously, or we could run a SQL query to confirm. Try it out in the following cell:"
   ]
  },
  {
   "cell_type": "code",
   "execution_count": null,
   "id": "3779fd07-ef24-4f43-91ea-ea96e7fff0d0",
   "metadata": {
    "collapsed": false,
    "language": "sql",
    "name": "cell23"
   },
   "outputs": [],
   "source": [
    "USE ROLE {{user}}_learner_rl;\n",
    "SHOW databases like '{{user}}%';"
   ]
  },
  {
   "cell_type": "markdown",
   "id": "dd3f1e6a-2a6c-4736-82a6-c290e7e3b9df",
   "metadata": {
    "collapsed": false,
    "name": "cell24"
   },
   "source": [
    "### Challenge exercise review.\n",
    "\n",
    "- What databases do you see? \n",
    "\n",
    "- Are your two newly created databases listed?\n",
    "\n",
    "If not, review the earlier steps in this lesson and see if you can correct the issue.\n",
    "\n",
    "When you have confirmed your databases, the task is complete, and you can proceed."
   ]
  },
  {
   "cell_type": "markdown",
   "id": "a5e93cd9-d673-45de-843b-330738408f5b",
   "metadata": {
    "collapsed": false,
    "name": "challenge_exercise_2"
   },
   "source": [
    "## Challenge Exercise 🎯 \n",
    "\n",
    "In Snowflake, roles don't need to own objects to view or interact with them. Permission to perform certain actions with objects can also be delegated to roles using the `GRANT` command. The Snowsight interface provides options to perform actions to change access to objects. \n",
    "\n",
    "Take a look at the following Snowsight screen. The following explanation will help you understand how to perform these steps yourself shortly.\n",
    "\n",
    "- Selecting a schema in the Object Browser reveals the Schema details panel to the right.\n",
    "\n",
    "- Note the `+ Privilege` button - click this to launch the **Grant new privileges on** dialog.\n",
    "\n",
    "- The **Role** dropdown is the name of the role you would like to give (grant) permissions on the schema to. When you click into this, a **Search roles** option appears - use this to locate your role.\n",
    "\n",
    "- The **Privileges** dropdown contains a list of Snowflake permissions across a wide range of objects.\n",
    "\n",
    "- **USAGE** provides basic access to view and interact with a schema.\n",
    "\n",
    "![Grant privileges (image)](https://edu-cdev-images.s3.us-west-2.amazonaws.com/ob/ob_grant_privileges_1.png)\n",
    "\n",
    "Use Your knowledge to perform the following actions:\n",
    "\n",
    "### Grant `USAGE` on a schema to a role.\n",
    "\n",
    "- Work as the `(animal)_LEARNER_RL`.\n",
    "- Use Snowsight to grant `USAGE` on the schema **(animal)_DB.PUBLIC**.\n",
    "- Grant this to the role `(animal)_CREATE_DB_RL`.\n",
    "\n",
    "### Grant `USAGE` on a database to a role.\n",
    "\n",
    "- Work as the `(animal)_LEARNER_RL`. \n",
    "- Use Snowsight to grant `USAGE` on the database **(animal)_DB**. \n",
    "- Grant this to the role `(animal)_CREATE_DB_RL`."
   ]
  },
  {
   "cell_type": "markdown",
   "id": "9e7405c4-2279-4090-9284-06ef583b9e75",
   "metadata": {
    "collapsed": false,
    "name": "cell26"
   },
   "source": [
    "### Challenge exercise review.\n",
    "\n",
    "- When working as the role `(animal)_CREATE_DB_RL`, can you see both the **(animal)_DB** database and its **PUBLIC** schema in the Snowsight Object Browser?\n",
    "\n",
    "If not, then review the earlier steps in this lesson and see if you can correct the issue.\n",
    "\n",
    "When you have confirmed, the task is complete, and you can proceed."
   ]
  },
  {
   "cell_type": "markdown",
   "id": "12f5339f-0c50-4d41-b8e7-c3f7675049fe",
   "metadata": {
    "collapsed": false,
    "name": "test_your_knowledge"
   },
   "source": [
    "## Test Your Knowledge. 🔎\n",
    "\n",
    "Run the following Python cell to present a Streamlit-driven widget and answer the questions about Snowflake features and functionality. You don't have to understand what this is doing for now. Just go ahead and run the code.\n",
    "\n",
    "You need to answer these questions correctly to proceed to the next section."
   ]
  },
  {
   "cell_type": "code",
   "execution_count": null,
   "id": "928ac7ff-03f7-46d5-a030-a50eccae2230",
   "metadata": {
    "collapsed": false,
    "language": "python",
    "name": "cell28"
   },
   "outputs": [],
   "source": [
    "question = \"Based on your work in this lab which of the following statements seem true about database ownership?\"\n",
    "options = [\"Pick selection below...\",\n",
    "           \"A) SYSADMIN owns most of the databases\", \n",
    "           \"B) SECURITYADMIN owns most of the databases\", \n",
    "           \"C) Ownership of a database initially resides with the role that creates it\", \n",
    "           \"D) We cannot transfer ownership of a database to a different role after it has been created\"]\n",
    "\n",
    "st.divider()\n",
    "user_answer = st.radio(question, options, index=0)\n",
    "if user_answer:\n",
    "    if user_answer == \"Pick selection below...\":\n",
    "        ''\n",
    "    else:\n",
    "        answer = '8f8f9ab7ecc9134b245a2368e80d08d3'\n",
    "        response = session.sql(f\"call common_db.resources.quiz_temp('{answer}', '{user_answer}', 'False')\").collect()\n",
    "        if response:\n",
    "            value = response[0]['QUIZ_TEMP']\n",
    "        st.write(value)"
   ]
  },
  {
   "cell_type": "code",
   "execution_count": null,
   "id": "61b85e4e-6560-45e2-9708-19f70eb65290",
   "metadata": {
    "collapsed": false,
    "language": "python",
    "name": "cell29"
   },
   "outputs": [],
   "source": [
    "question = \"If you know a database exists but suddenly cannot see it, or you get an error message that says it doesn't exist, what should you check first?\"\n",
    "options = [\"Pick selection below...\",\n",
    "           \"A) Your current USER name\", \n",
    "           \"B) Your default ROLE\", \n",
    "           \"C) Your current ACCOUNT\", \n",
    "           \"D) Your current ROLE\"]\n",
    "\n",
    "st.divider()\n",
    "user_answer = st.radio(question, options, index=0)\n",
    "if user_answer:\n",
    "    if user_answer == \"Pick selection below...\":\n",
    "        ''\n",
    "    else:\n",
    "        answer = '14d34f7989d4ba5d82a939acf9ad62d0'\n",
    "        response = session.sql(f\"call common_db.resources.quiz_temp('{answer}', '{user_answer}', 'False')\").collect()\n",
    "        if response:\n",
    "            value = response[0]['QUIZ_TEMP']\n",
    "        st.write(value)"
   ]
  },
  {
   "cell_type": "markdown",
   "id": "c72f4ec3-8b54-40d8-abfa-c9788d2f8320",
   "metadata": {
    "collapsed": false,
    "name": "next_steps"
   },
   "source": [
    "## Next Steps\n",
    "\n",
    "If you have completed the lab steps and answered the **Knowledge Test** questions correctly, please proceed to the next Notebook when advised by your Snowflake instructor."
   ]
  }
 ]
}