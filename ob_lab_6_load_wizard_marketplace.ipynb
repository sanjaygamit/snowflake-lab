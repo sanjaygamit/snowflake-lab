{
 "metadata": {
  "kernelspec": {
   "display_name": "Streamlit Notebook",
   "name": "streamlit"
  },
  "lastEditStatus": {
   "notebookId": "e5x2isp6n3yi5p7uymzm",
   "authorId": "6380573264452",
   "authorName": "MAGPIE07",
   "authorEmail": "",
   "sessionId": "7cbdb767-8320-4566-be57-7ba2aa8a4ea5",
   "lastEditTime": 1745838078989
  }
 },
 "nbformat_minor": 5,
 "nbformat": 4,
 "cells": [
  {
   "cell_type": "markdown",
   "id": "f89f495d-7587-444f-9507-42b62eadee6c",
   "metadata": {
    "collapsed": false,
    "name": "lab_6_the_load_wizard",
    "resultHeight": 266
   },
   "source": [
    "# Lab 6: The Load Wizard and Snowflake Marketplace\n",
    "\n",
    "👉 In this lesson, we'll learn about loading files and the types of Snowflake objects that can make that process easier. We'll also get familiar with the Snowflake Marketplace, which is like an app store for data and data products.\n",
    "\n",
    "To begin, let's grab **context information** we will use throughout this lab. \n",
    "\n",
    "- Click the **Start** button to activate this notebook.\n",
    "\n",
    "- Run the following Python cell."
   ]
  },
  {
   "cell_type": "markdown",
   "id": "b0cb8acb-e8ba-4bd2-a0b2-a5dafe8a9c19",
   "metadata": {
    "collapsed": false,
    "name": "cell2",
    "resultHeight": 47
   },
   "source": [
    "#### :warning: Each time a new session is started for this notebook, you need to rerun the cell below to configure \"variables\" for use in later cells. :warning:"
   ]
  },
  {
   "cell_type": "code",
   "execution_count": null,
   "id": "42fa34a1-20d3-421c-8e5e-4a51a9b87b6a",
   "metadata": {
    "collapsed": false,
    "language": "python",
    "name": "cell3",
    "resultHeight": 105
   },
   "outputs": [],
   "source": [
    "import streamlit as st\n",
    "from snowflake.snowpark.context import get_active_session\n",
    "session = get_active_session()\n",
    "user = session.get_current_user().strip('\"')\n",
    "your_db = user + '_DB'\n",
    "print('Your current CONTEXT information:')\n",
    "print('---------------------------------')\n",
    "print(session)\n",
    "print('Your current USER is ' + user)"
   ]
  },
  {
   "cell_type": "markdown",
   "id": "3775908f-ca36-4846-8f38-5adca39217f2",
   "metadata": {
    "collapsed": false,
    "name": "insert_statements_get_old_fast",
    "resultHeight": 996
   },
   "source": [
    "## Insert Statements Get Old, Fast 📓 \n",
    "\n",
    "### Vegetable Details Table Data\n",
    "\n",
    "Let's suppose that Business Analysts on our team decide to shorten the Rooting Depth column to a single letter and output to a Comma Separated Value (CSV) file. This change is fine as it stands, but there's trouble brewing... \n",
    "- Can you see the issue? \n",
    "- Why won't we be able to load this CSV? \n",
    "- How many commas are there in most rows? \n",
    "- How many commas are there in the row for Hot Peppers? \n",
    "\n",
    "![Vegetable details table data (image)](https://edu-cdev-images.s3.us-west-2.amazonaws.com/ob/ob_veg_details_table_1.png)"
   ]
  },
  {
   "cell_type": "markdown",
   "id": "25a9656e-7a65-43e1-8e66-ec0da209528e",
   "metadata": {
    "collapsed": false,
    "name": "cell5",
    "resultHeight": 222
   },
   "source": [
    "### Create a Vegetable Details Table 🥋 \n",
    "\n",
    "When working in a notebook cell, remember that we can explicitly specify our context with a `USE` statement: e.g. `USE SCHEMA db_name/schema_name`.\n",
    "\n",
    "An alternative to this is to use **full object notation**. This means that we use the full path (or hierarchy) for an object each time we refer to an object in our SQL. It is more verbose, but it can help with clarity. The general structure of this naming convention follows the format: `<database_name>.<schema_name>.<object_name>`.\n",
    "\n",
    "💡 **Hint**: If you do happen to create the table in the wrong database or schema, you can use an `ALTER TABLE - RENAME` statement to move it, or you can drop the table, update your drop menu context settings and recreate it. "
   ]
  },
  {
   "cell_type": "code",
   "execution_count": null,
   "id": "a3b15eb0-5ce8-4a76-bc0f-84095e0d21d0",
   "metadata": {
    "collapsed": false,
    "language": "sql",
    "name": "cell6",
    "resultHeight": 112
   },
   "outputs": [],
   "source": [
    "-- Create a Vegetable Details Table \n",
    "\n",
    "CREATE TABLE IF NOT EXISTS {{user}}_garden_plants.veggies.vegetable_details (\n",
    "    plant_name VARCHAR(25),\n",
    "    root_depth_code VARCHAR(1)\n",
    ") \n",
    "DATA_RETENTION_TIME_IN_DAYS = 7;"
   ]
  },
  {
   "cell_type": "markdown",
   "id": "27fb6ecb-3d96-475f-9019-c7c82fb6d8ee",
   "metadata": {
    "collapsed": false,
    "name": "load_table_rows_from_a_file",
    "resultHeight": 262
   },
   "source": [
    "## Load Table Rows from a File \n",
    "\n",
    "### Source the Data \n",
    "\n",
    "Two CSV (comma separated values) files named `veggie_details_a_to_k_comma_opt_enclosed.csv` and `veggie_details_k_to_z_pipe.csv` have been uploaded to the stage **COMMON_DB.RESOURCES.CLASS_FILES**. We want to load this data into the **VEGETABLE_DETAILS** table you created. \n",
    "\n",
    "### Download the first file 🥋 \n",
    "\n",
    "Run the following Python code cell and click on the link generated to download a file (Artichoke to Kale)."
   ]
  },
  {
   "cell_type": "code",
   "execution_count": null,
   "id": "c21e9959-0edb-45bd-a030-33fc39c14e14",
   "metadata": {
    "collapsed": false,
    "language": "python",
    "name": "cell8",
    "resultHeight": 134
   },
   "outputs": [],
   "source": [
    "import streamlit as st\n",
    "snowpark_df = session.sql(\"SELECT GET_PRESIGNED_URL(@common_db.resources.course_files, 'veggie_details_a_to_k_comma_opt_enclosed.csv')\")\n",
    "collected_data = snowpark_df.collect()\n",
    "st.write('Click the following link to download the file:')\n",
    "st.write(collected_data[0][0])"
   ]
  },
  {
   "cell_type": "markdown",
   "id": "d972028f-0c33-49ab-91d9-d40d6b9dd791",
   "metadata": {
    "collapsed": false,
    "name": "cell9",
    "resultHeight": 2257
   },
   "source": [
    "### Load Data dialog steps 🥋 \n",
    "\n",
    "1. Locate your **VEGETABLE_DETAILS** table in the Snowsight object browser.\n",
    "1. Click the **Open Table details in new tab** icon to launch this screen in a new tab.\n",
    "\n",
    "![Load Data dialog (image)](https://edu-cdev-images.s3.us-west-2.amazonaws.com/ob/ob_open_table_details_1.png)\n",
    "\n",
    "1. Click on the blue `Load Data` button, top right.\n",
    "1. The following dialog will appear.\n",
    "1. If you are prompted to use a warehouse, select your named warehouse - **(animal)_WH**.\n",
    "\n",
    "![Load Data dialog (image)](https://edu-cdev-images.s3.us-west-2.amazonaws.com/ob/ob_load_data_1.png)\n",
    "\n",
    "1. Click the blue **Browse** button.\n",
    "1. Locate the file you downloaded locally, named `veggie_details_a_to_k_comma_opt_enclosed.csv` and select it to open.\n",
    "1. Then click the blue **Next** button in the lower right corner of the dialog.\n",
    "1. An extended Load Data dialog appears.\n",
    "1. We will accept many of the defaults chosen for our file, but click the dropdown arrow for **View options** in the **File format** box on the left side to adjust some options.\n",
    "\n",
    "![Extended Load Data dialog (image)](https://edu-cdev-images.s3.us-west-2.amazonaws.com/ob/ob_load_data_2.png)\n",
    "\n",
    "1. Select \"Skip first line\" for **Header**.\n",
    "1. Select \"Double quotes (default)\" for **Field optionally enclosed by**.\n",
    "1. Click the blue **Load** button in the lower right corner of the dialog.\n",
    "\n",
    "![Load Data file options (image)](https://edu-cdev-images.s3.us-west-2.amazonaws.com/ob/ob_load_data_3.png)\n",
    "\n",
    "1. All things going well, you should then see the following success dialog.\n",
    "1. Click **Done** and use the **Data Preview** option tab on the page that appears to review the data loaded into your table.\n",
    "\n",
    "![Load Data success (image)](https://edu-cdev-images.s3.us-west-2.amazonaws.com/ob/ob_load_data_success_1.png)"
   ]
  },
  {
   "cell_type": "markdown",
   "id": "a6a3be0b-301d-4061-858f-ecaa2caeeb26",
   "metadata": {
    "collapsed": false,
    "name": "cell10",
    "resultHeight": 171
   },
   "source": [
    "### Recovering from mistakes when loading data 📓\n",
    "\n",
    "If you accidentally load the same file twice and want to start over, run a `TRUNCATE` command to empty the table. \n",
    "\n",
    "`TRUNCATE TABLE (animal)_GARDEN_PLANTS.VEGGIES.VEGETABLE_DETAILS;`\n",
    "\n",
    "Then, start the loading process over again. "
   ]
  },
  {
   "cell_type": "markdown",
   "id": "79fd1bf6-10ee-470c-a5fa-83deff0267c6",
   "metadata": {
    "collapsed": false,
    "name": "load_table_rows_from_a_file_2",
    "resultHeight": 148
   },
   "source": [
    "## Load Table Rows from a File\n",
    "\n",
    "### Download the second file 🥋 \n",
    "\n",
    "Run the following Python code cell and click on the link generated to download our second file (Kohlrabi to Zucchini)."
   ]
  },
  {
   "cell_type": "code",
   "execution_count": null,
   "id": "8707b62a-57b2-45de-b2f9-dc677790b628",
   "metadata": {
    "collapsed": false,
    "language": "python",
    "name": "cell12",
    "resultHeight": 134
   },
   "outputs": [],
   "source": [
    "snowpark_df = session.sql(\"SELECT GET_PRESIGNED_URL(@common_db.resources.course_files, 'veggie_details_k_to_z_pipe.csv')\")\n",
    "collected_data = snowpark_df.collect()\n",
    "st.write('Click the following link to download the file:')\n",
    "st.write(collected_data[0][0])"
   ]
  },
  {
   "cell_type": "markdown",
   "id": "8043d68f-0be2-4f01-b741-006143fcaf47",
   "metadata": {
    "collapsed": false,
    "name": "challenge_lab",
    "resultHeight": 948
   },
   "source": [
    "## Challenge Lab: Load the File into the Table 🎯 \n",
    "\n",
    "Load the file you downloaded into the same table using the same **Load Data** method you used. \n",
    "\n",
    "💡 **Note**: At least one setting under **View options** will be different when loading this file compared to the first. The columns are **NOT** separated by commas this time. In many cases, Snowflake is automatically able to detect the shape of files being loaded and respond with options to support correct loading. Is this the case with the load of your second file?\n",
    "\n",
    "![Vegetable details table data (image)](https://edu-cdev-images.s3.us-west-2.amazonaws.com/ob/ob_veg_details_csv_1.png)\n",
    "\n",
    "💡 **TIP**: Don't use Excel to open CSV files if you want to see what characters are used to separate columns and rows. Use a simple text editor. On Windows, Notepad works well. On Mac, TextEdit works well. \n",
    "\n",
    "Once the file is loaded, check your table by running a `SELECT` statement and reviewing the output. You should see 42 rows. If you reverse the sort order (click the **PLANT_NAME** column header in the output table), you should be able to see Zucchini at the top, proving to yourself you loaded the second file."
   ]
  },
  {
   "cell_type": "code",
   "execution_count": null,
   "id": "c42b4369-c0c3-4908-b22d-e5643d7b2672",
   "metadata": {
    "collapsed": false,
    "language": "sql",
    "name": "cell14",
    "resultHeight": 439
   },
   "outputs": [],
   "source": [
    "SELECT * \n",
    "FROM {{user}}_garden_plants.veggies.vegetable_details;"
   ]
  },
  {
   "cell_type": "markdown",
   "id": "b698b270-3a5f-4083-8cb8-bd804474a2f6",
   "metadata": {
    "collapsed": false,
    "name": "viewing_our_table_data",
    "resultHeight": 414
   },
   "source": [
    "## Viewing Our Table Data 🎯 \n",
    "\n",
    "### View Your Vegetable Details Table using SQL \n",
    "\n",
    "This challenge lab does not include step-by-step details, only general guidance for achieving several goals.\n",
    "\n",
    "1. View your data.\n",
    "1. Isolate the records for \"Spinach\".\n",
    "1. Notice a plant name that appears twice in the data set.\n",
    "1. Find a way to get rid of it.\n",
    "1. View your data again.\n",
    "\n",
    "💡 **TIP**: **Replace** the hash characters (`#`) in the scaffolded queries below. Where you see one, your input is required. \n",
    "\n",
    "💡 **TIP**: If you are really stuck then **Expand** the clue cells under each of the \"scaffolded\" SQL statements by clicking **Code and results** from the **View display options** selector right next to the gray play button to the upper right of the cell. Be sure to try to figure it out first for yourself :grinning:."
   ]
  },
  {
   "cell_type": "markdown",
   "id": "10af90dc-5d74-48d6-96ab-e55a7f94b914",
   "metadata": {
    "collapsed": false,
    "name": "cell16",
    "resultHeight": 46
   },
   "source": [
    "### 1. View your data. 🎯 "
   ]
  },
  {
   "cell_type": "code",
   "execution_count": null,
   "id": "0b4c0ddf-9cc0-42da-b4db-d64118800358",
   "metadata": {
    "language": "sql",
    "name": "cell17",
    "resultHeight": 112
   },
   "outputs": [],
   "source": "-- modify the following code and run to view all the table data after first setting your context (database and schema)\n--USE DATABASE ######_######_######;\n--USE ###### veggies;\n\n--SELECT #\n--FROM #########_details;\n\nUSE DATABASE MAGPIE07_GARDEN_PLANTS;\nUSE SCHEMA veggies;\n\nSELECT *\nFROM vegetable_details;"
  },
  {
   "cell_type": "code",
   "execution_count": null,
   "id": "53bc86ac-8dd4-4499-a9f8-01188cb9f14b",
   "metadata": {
    "codeCollapsed": true,
    "collapsed": true,
    "language": "sql",
    "name": "clue_for_cell17_expand_cell"
   },
   "outputs": [],
   "source": [
    "/*\n",
    "-- you could also hard code the following USE statement for your animal user instead of using the variable substitution\n",
    "USE SCHEMA {{user}}_garden_plants.veggies;\n",
    "\n",
    "SELECT *\n",
    "FROM vegetable_details;\n",
    "*/"
   ]
  },
  {
   "cell_type": "markdown",
   "id": "ba3cdb0c-2934-4a83-9902-1fd8c5191c0c",
   "metadata": {
    "collapsed": false,
    "name": "cell19",
    "resultHeight": 155
   },
   "source": [
    "### 2. Write a SQL query to return all rows where the **plant_name** is **Spinach**. 🎯 \n",
    "\n",
    "We will make use of the [`UPPER()`](https://docs.snowflake.com/en/sql-reference/functions/upper) function. This means we don't have to concern ourselves with writing the test String we are checking for as `spinach`, or `Spinach`, or any other variation. Our input and the values stored in the column will be converted to `SPINACH`.\n",
    "\n",
    "💡 **Hint**: we are surprised to see two Spinach rows!"
   ]
  },
  {
   "cell_type": "code",
   "execution_count": null,
   "id": "1064a1dd-2b4d-4f00-80c4-4f4ffc9008c9",
   "metadata": {
    "language": "sql",
    "name": "cell20"
   },
   "outputs": [],
   "source": "-- SELECT *\n-- FROM #########_#######\n-- WHERE UPPER(plant_name) = UPPER('#######');\n\nSELECT *\nFROM vegetable_details\nWHERE UPPER(plant_name) = UPPER('SPINACH')\nAND root_depth_code = 'D';"
  },
  {
   "cell_type": "code",
   "execution_count": null,
   "id": "33549c74-1fe9-4e9d-ab36-830721eac3c0",
   "metadata": {
    "codeCollapsed": true,
    "collapsed": true,
    "language": "sql",
    "name": "clue_for_cell20_expand_cell"
   },
   "outputs": [],
   "source": [
    "/*\n",
    "SELECT *\n",
    "FROM vegetable_details\n",
    "WHERE UPPER(plant_name) = UPPER('Spinach');\n",
    "*/"
   ]
  },
  {
   "cell_type": "markdown",
   "id": "46d2d9bd-6637-48d8-ab92-9bf2be5bfb61",
   "metadata": {
    "collapsed": false,
    "name": "cell22",
    "resultHeight": 88
   },
   "source": [
    "### 3. One of the rows has an \"S\" for shallow roots, and the other has \"D\" for deep roots. 🎯 \n",
    "\n",
    "We need to get rid of the row that says spinach roots are deep. First, let's isolate the \"D\" row. "
   ]
  },
  {
   "cell_type": "code",
   "execution_count": null,
   "id": "222c0bf8-e4de-4129-9981-efd9142e83fe",
   "metadata": {
    "language": "sql",
    "name": "cell23"
   },
   "outputs": [],
   "source": "-- SELECT *\n-- FROM vegetable_details\n-- WHERE UPPER(plant_name) = UPPER('#######')\n-- AND root_depth_code = '#';\n\nSELECT *\nFROM vegetable_details\nWHERE UPPER(plant_name) = UPPER('SPINACH')\nAND root_depth_code = 'D';"
  },
  {
   "cell_type": "code",
   "execution_count": null,
   "id": "3ede117d-91e6-431f-b311-439a94ec5d1c",
   "metadata": {
    "codeCollapsed": true,
    "collapsed": true,
    "language": "sql",
    "name": "clue_for_cell23_expand_cell"
   },
   "outputs": [],
   "source": [
    "/*\n",
    "SELECT *\n",
    "FROM vegetable_details\n",
    "WHERE UPPER(plant_name) = UPPER('Spinach')\n",
    "AND root_depth_code = 'D';\n",
    "*/"
   ]
  },
  {
   "cell_type": "markdown",
   "id": "ee9a9abf-7d1f-403c-a252-82ae1f62a830",
   "metadata": {
    "collapsed": false,
    "name": "cell25",
    "resultHeight": 46
   },
   "source": [
    "### 4. Remove only the Spinach row with \"D\" in the ROOT_DEPTH_CODE column. 🎯 "
   ]
  },
  {
   "cell_type": "code",
   "execution_count": null,
   "id": "cf5a3ae0-e43e-4769-b445-64a999129f81",
   "metadata": {
    "collapsed": false,
    "language": "sql",
    "name": "cell26",
    "resultHeight": 112
   },
   "outputs": [],
   "source": "DELETE\nFROM vegetable_details\nWHERE UPPER(plant_name) = UPPER('SPINACH')\nAND root_depth_code = 'D';"
  },
  {
   "cell_type": "code",
   "execution_count": null,
   "id": "1df4d104-33b5-4a69-8bdd-c73fd164e009",
   "metadata": {
    "codeCollapsed": true,
    "collapsed": true,
    "language": "sql",
    "name": "clue_for_cell26_expand_cell"
   },
   "outputs": [],
   "source": [
    "/*\n",
    "DELETE\n",
    "FROM vegetable_details\n",
    "WHERE UPPER(plant_name) = UPPER('Spinach')\n",
    "AND root_depth_code = 'D';\n",
    "*/"
   ]
  },
  {
   "cell_type": "markdown",
   "id": "dcd29632-ec6a-4111-b25e-2b79721c3f6e",
   "metadata": {
    "collapsed": false,
    "name": "cell28",
    "resultHeight": 46
   },
   "source": [
    "### 5. Look at all the data again and make sure there are no vegetable names that appear twice. 🎯 "
   ]
  },
  {
   "cell_type": "code",
   "execution_count": null,
   "id": "3dba0be1-8291-445a-9e66-045cd3800060",
   "metadata": {
    "language": "sql",
    "name": "cell29"
   },
   "outputs": [],
   "source": "SELECT *\nFROM vegetable_details;"
  },
  {
   "cell_type": "code",
   "execution_count": null,
   "id": "5ea57d99-f8f4-4be2-8141-fba1a8a764e5",
   "metadata": {
    "codeCollapsed": true,
    "collapsed": true,
    "language": "sql",
    "name": "clue_for_cell29_expand_cell"
   },
   "outputs": [],
   "source": [
    "/*\n",
    "SELECT *\n",
    "FROM vegetable_details;\n",
    "*/"
   ]
  },
  {
   "cell_type": "markdown",
   "id": "038b18fa-bc25-44b3-b866-226dc2371054",
   "metadata": {
    "collapsed": false,
    "name": "cell31",
    "resultHeight": 206
   },
   "source": [
    "### A Note on the File Format object. 📓\n",
    "\n",
    "In your work in this lab, you have used Snowsight's Load Data wizard to guide Snowflake in reading data from a file and inserting it into a table. As you saw, the dialog includes options to help Snowflake understand the \"shape\" of the data as it is in the source file and specify how the data in the file should be interpreted and processed. This includes the type (e.g. CSV), field delimiters, and whether it contains header lines that should be skipped.\n",
    "\n",
    "These instructions can be bundled into a Snowflake object called a [FILE FORMAT](https://docs.snowflake.com/en/sql-reference/sql/create-file-format), referenced in the Load Data dialog, or when programmatically loading data into Snowflake via the [`COPY INTO`](https://docs.snowflake.com/en/sql-reference/sql/copy-into-table) command. This saves time as you don't have to re-enter/re-code these instructions for repeated file loads with the same specifications."
   ]
  },
  {
   "cell_type": "markdown",
   "id": "7c676dff-e1d0-4e70-aee3-f324faa93606",
   "metadata": {
    "collapsed": false,
    "name": "a_brief_introduction_to_cloning",
    "resultHeight": 287
   },
   "source": [
    "## A Brief Introduction to Cloning 📓\n",
    "\n",
    "Snowflake’s [zero-copy cloning](https://docs.snowflake.com/en/user-guide/object-clone) feature provides a convenient way to quickly take a “snapshot” of any table, schema, or database (and other objects) and create a derived copy of that object, which initially shares the underlying storage. This does not involve physically copying any underlying data but is an operation affecting metadata only. For this reason, it is generally very fast to clone tables, schemas, or even entire databases.\n",
    "\n",
    "Clones are independent objects the moment they are created. You can perform the same operations on the cloned objects you perform on the source objects. For example, you can do anything to a table you cloned, including writing to it or changing parameters using the `ALTER TABLE` command.\n",
    "\n",
    "Cloning can be extremely useful for creating instant backups without additional costs (until changes are made to the cloned object). This feature is often used in Snowflake for speedy provisioning of Dev and Test/QA environments and data backups."
   ]
  },
  {
   "cell_type": "markdown",
   "id": "ddcb085f-3c8b-4970-ae63-064eca7bbf4a",
   "metadata": {
    "collapsed": false,
    "name": "cell33",
    "resultHeight": 155
   },
   "source": [
    "### Clone a table. 🥋\n",
    "\n",
    "You will create a new schema called **CLONED_OBJECTS** in the **(animal)_DB** database in the following. You will then `CLONE` the existing **VEGETABLE_DETAILS** table into this new schema with the name **VEGETABLE_DETAILS_CLONE**.\n",
    "\n",
    "Execute the following code to perform these steps, and note the speed of this operation. Remember that cloning in Snowflake does not copy the table data, just the metadata (data about the data)."
   ]
  },
  {
   "cell_type": "code",
   "execution_count": null,
   "id": "5af73e25-68d5-4fad-9d09-bdb0135cdcb9",
   "metadata": {
    "collapsed": false,
    "language": "sql",
    "name": "cell34",
    "resultHeight": 112
   },
   "outputs": [],
   "source": [
    "CREATE SCHEMA IF NOT EXISTS {{user}}_db.cloned_objects;\n",
    "\n",
    "USE SCHEMA {{user}}_db.cloned_objects;\n",
    "\n",
    "CREATE TABLE IF NOT EXISTS vegetable_details_clone\n",
    "    CLONE {{user}}_garden_plants.veggies.vegetable_details;"
   ]
  },
  {
   "cell_type": "markdown",
   "id": "fdc45f25-fcf7-44e1-b3ed-59d7f0d29c00",
   "metadata": {
    "collapsed": false,
    "name": "cell35",
    "resultHeight": 113
   },
   "source": [
    "### Review details about the cloned table.\n",
    "\n",
    "Use the `SHOW` command to review the cloned table alongside the source table from which it originated. They are independent objects. Note, however, that they both share the same number of rows and bytes, although the storage will only be metered against the source table."
   ]
  },
  {
   "cell_type": "code",
   "execution_count": null,
   "id": "d5a3f0cc-8251-4ee0-813f-765086820cba",
   "metadata": {
    "language": "sql",
    "name": "cell36",
    "resultHeight": 147
   },
   "outputs": [],
   "source": [
    "SHOW TABLES LIKE 'vegetable_details%' IN ACCOUNT;"
   ]
  },
  {
   "cell_type": "markdown",
   "id": "b1acde6d-09c2-43aa-bee9-ed74e7dd957c",
   "metadata": {
    "collapsed": false,
    "name": "cell37",
    "resultHeight": 113
   },
   "source": [
    "### Query the cloned table.\n",
    "\n",
    "Query the cloned table **VEGETABLE_DETAILS_CLONE** as we have done for the table from which it is sourced, **VEGETABLE_DETAILS**. This data should look familiar! This cloned object is just a standard Snowflake table, supporting all standard table operations despite the creation method. "
   ]
  },
  {
   "cell_type": "code",
   "execution_count": null,
   "id": "0f4b2c1b-5828-440d-9e86-de1d6e934e46",
   "metadata": {
    "language": "sql",
    "name": "cell38",
    "resultHeight": 439
   },
   "outputs": [],
   "source": [
    "SELECT * \n",
    "FROM vegetable_details_clone;"
   ]
  },
  {
   "cell_type": "markdown",
   "id": "4e2750b8-dd26-42e7-af66-95854c2ef20f",
   "metadata": {
    "collapsed": false,
    "name": "snowflake_marketplace",
    "resultHeight": 1316
   },
   "source": [
    "## Snowflake Marketplace 📓\n",
    "\n",
    "### What is Snowflake Marketplace?\n",
    "\n",
    "The Snowflake Marketplace is an integrated portal accessible within your Snowflake account. You can use the Snowflake Marketplace to discover and access third-party data and services and market your own data products across the Snowflake Data Cloud. As a consumer, you might use the data provided on the Snowflake Marketplace to explore and access the following:\n",
    "\n",
    "- Historical data for research, forecasting, and machine learning.\n",
    "- Up-to-date streaming data, such as current weather and traffic conditions.\n",
    "- Specialized identity data for understanding subscribers and audience targets.\n",
    "- New insights from unexpected sources of data. \n",
    "\n",
    "### What's easier than loading data into a table in Snowflake? Well, NOT LOADING at all!\n",
    "\n",
    "Snowflake Marketplace enables you to search across a range of categories for data and data products meaningful to your business from a growing pool of global providers and leverage them within your account with the click of a button. There are hundreds of listings, including **Free/Unlimited Access** options. Provided you have the privileges to perform Marketplace transactions, the shared data can be available in your account within seconds and appear as a new database. It can be analyzed and utilized there, and even joined with your own data, to augment, enhance, and create new data products. No data loading required!\n",
    "\n",
    "--- \n",
    "\n",
    "![Snowflake Marketplace (image)](https://edu-cdev-images.s3.us-west-2.amazonaws.com/ob/ob_marketplace.png)"
   ]
  },
  {
   "cell_type": "markdown",
   "id": "8e1b8318-34de-4ae7-904b-5e175b4704a1",
   "metadata": {
    "collapsed": false,
    "name": "cell40",
    "resultHeight": 247
   },
   "source": [
    "### Navigate to the Snowflake Marketplace 🥋 \n",
    "\n",
    "1. On the main left-side menu select **Data Products** > **Marketplace**.\n",
    "1. Use the Snowflake Marketplace search bar > type in \"books\" and hit Enter.\n",
    "1. From the sub-menu that appears, select **Pricing** > **Free**.\n",
    "1. Find the listing **AI Training Dataset from Goodreads Books**.\n",
    "1. Click on the link and review the details provided for this data set, which includes a data dictionary specification and usage examples (SQL queries).\n",
    "\n",
    "💡 **TIP**: Snowflake Marketplace listings require special privileges to acquire an account. Generally, this would be handled by a data or system administrator with access to elevated privilege roles in Snowflake."
   ]
  },
  {
   "cell_type": "markdown",
   "id": "d68736e0-4865-4155-835a-97dee1510542",
   "metadata": {
    "collapsed": false,
    "name": "about_private_sharing",
    "resultHeight": 220
   },
   "source": [
    "## About Private Sharing With Data Exchange 📓\n",
    "\n",
    "[Data Exchange](https://docs.snowflake.com/en/user-guide/data-exchange) provides a data hub for securely collaborating around data with a selected group of members that you invite. As a provider, it lets you publish data, which can then be discovered by the consumers participating in your exchange.\n",
    "\n",
    "With Data Exchange, you can easily provide data to a specific group of consistent business partners taking part in the Data Exchange, such as internal departments in your company or vendors, suppliers, and partners external to your company. Suppose you want to share data with various consumers inside and outside your organization. In that case, you can also use listings offered to specific consumers or publicly on the Snowflake Marketplace."
   ]
  },
  {
   "cell_type": "markdown",
   "id": "6aece667-f395-41db-8197-051bead1a4f2",
   "metadata": {
    "collapsed": false,
    "name": "cell42",
    "resultHeight": 1214
   },
   "source": [
    "### Work with Private Sharing. 🥋 \n",
    "\n",
    "In addition to the \"public\" Snowflake Marketplace, it is also possible to share data and data products with a curated list of Snowflake accounts or even with users within an account. This feature is called a **Data Exchange**.\n",
    "\n",
    "1. On the main left-side menu, select Data Products > Private Sharing.\n",
    "1. Review the listings shared with our account, many from Snowflake Education Services.\n",
    "1. Click on the listing for **Alpine Peaks Publishing** and review.\n",
    "\n",
    "We will write SQL queries against this data set in our Snowflake account to surface the top book recommendations for our favorite topic: **gardening**. There's always more to learn!!!\n",
    "\n",
    "💡 **NOTE**: Snowflake Education Services has already acquired this private exchange data set in our account. You **DO NOT** need to click on the blue **Get** button or the **Get Access** link.\n",
    "\n",
    "--- \n",
    "\n",
    "![Snowflake Data Exchange (image)](https://edu-cdev-images.s3.us-west-2.amazonaws.com/ob/ob_pde_alpine_peaks_listing_1.png)\n",
    "\n",
    "- To make this shared data accessible to your role run the following SQL statement which will grant the appropriate permissions.\n",
    "\n",
    "- Refresh your object browser and you should then see the `ALPINE_PEAKS_PUBLISHING` database appear."
   ]
  },
  {
   "cell_type": "code",
   "execution_count": null,
   "id": "536a714a-c1bc-4b69-ab90-d08792b5602a",
   "metadata": {
    "collapsed": false,
    "language": "sql",
    "name": "cell43",
    "resultHeight": 112
   },
   "outputs": [],
   "source": [
    "CALL common_db.resources.access_alpine_peaks_publishing_data('{{user}}_learner_rl');"
   ]
  },
  {
   "cell_type": "markdown",
   "id": "68165200-d646-482c-9156-1bd34838466b",
   "metadata": {
    "collapsed": false,
    "name": "cell44",
    "resultHeight": 196
   },
   "source": [
    "### Query Private Data Exchange Data 🥋\n",
    "\n",
    "The following description appears for the **Alpine Peaks Publishing** listing on the Data Exchange:\n",
    "\n",
    "- _Alpine Peaks Publishing, a fictional book publisher, has unveiled its upcoming 2025 catalog to Snowflake Education. The collection features various titles across multiple genres, appealing to a wide audience. Showcasing the work of their acclaimed (but fictional) authors, this lineup promises to captivate readers with something for everyone._\n",
    "\n",
    "Run the queries in the following SQL cells to explore this data set!"
   ]
  },
  {
   "cell_type": "code",
   "execution_count": null,
   "id": "4381c3bd-2c97-49f4-b616-7f5bfb6ad835",
   "metadata": {
    "collapsed": false,
    "language": "sql",
    "name": "cell45",
    "resultHeight": 112
   },
   "outputs": [],
   "source": [
    "-- how many book reviews in this data set?\n",
    "SELECT COUNT(*) \n",
    "FROM alpine_peaks_publishing.books.forthcoming_releases;"
   ]
  },
  {
   "cell_type": "code",
   "execution_count": null,
   "id": "ed8fd5da-1498-4a32-91c5-cb5a4566ce7b",
   "metadata": {
    "collapsed": false,
    "language": "sql",
    "name": "cell46",
    "resultHeight": 0
   },
   "outputs": [],
   "source": [
    "-- take a look at a subset of this data \n",
    "SELECT * \n",
    "FROM alpine_peaks_publishing.books.forthcoming_releases\n",
    "LIMIT 10;"
   ]
  },
  {
   "cell_type": "code",
   "execution_count": null,
   "id": "e8a1a7de-ea23-4bf0-9c07-2557b4cf818d",
   "metadata": {
    "collapsed": false,
    "language": "sql",
    "name": "cell47",
    "resultHeight": 0
   },
   "outputs": [],
   "source": [
    "-- determine the number of unique categories in this data set \n",
    "SELECT DISTINCT category \n",
    "FROM alpine_peaks_publishing.books.forthcoming_releases\n",
    "ORDER BY 1;"
   ]
  },
  {
   "cell_type": "code",
   "execution_count": null,
   "id": "9fae038d-646f-4063-84fc-8d90d04e303a",
   "metadata": {
    "collapsed": false,
    "language": "sql",
    "name": "cell48",
    "resultHeight": 0
   },
   "outputs": [],
   "source": [
    "-- produce a count of the total number of books per category \n",
    "SELECT category, COUNT(*) \n",
    "FROM alpine_peaks_publishing.books.forthcoming_releases\n",
    "GROUP BY category \n",
    "ORDER BY 2 DESC;"
   ]
  },
  {
   "cell_type": "code",
   "execution_count": null,
   "id": "e064f987-1b5c-4bd8-9130-e131d6305e24",
   "metadata": {
    "collapsed": false,
    "language": "sql",
    "name": "cell49",
    "resultHeight": 0
   },
   "outputs": [],
   "source": [
    "-- find books with 'garden' in their name\n",
    "SELECT *\n",
    "FROM alpine_peaks_publishing.books.forthcoming_releases\n",
    "WHERE LOWER(title) LIKE '%garden%';"
   ]
  },
  {
   "cell_type": "code",
   "execution_count": null,
   "id": "d7f3ad2c-5910-424a-9462-8bafb65e7d03",
   "metadata": {
    "codeCollapsed": false,
    "collapsed": false,
    "language": "sql",
    "name": "cell50",
    "resultHeight": 0
   },
   "outputs": [],
   "source": [
    "-- list the books from our favorite category 'gardening' and order them by the date they will become available in 2025\n",
    "SELECT *\n",
    "FROM alpine_peaks_publishing.books.forthcoming_releases\n",
    "WHERE CONTAINS(LOWER(category),'garden')\n",
    "ORDER BY release_date;"
   ]
  },
  {
   "cell_type": "markdown",
   "id": "83a7055a-33e7-4808-b8df-38fabe207e38",
   "metadata": {
    "collapsed": false,
    "name": "lesson_6_wrap_up",
    "resultHeight": 276
   },
   "source": [
    "\n",
    "## Lesson 6 Wrap Up 🏁 \n",
    "\n",
    "### Ready to Finish Lesson 6? 🏁 \n",
    "\n",
    "- Does your **ROOT_DEPTH** table have 3 rows? \n",
    "\n",
    "- Does your **VEGETABLE_DETAILS** table have 41 rows?\n",
    "\n",
    "- Are both tables in the **VEGGIES** schema of your **(animal)_GARDEN_PLANTS** database? \n",
    "\n",
    "If you answer YES to all of these, you should mark this lesson complete! If not, you should go back and fix anything that isn't right!"
   ]
  },
  {
   "cell_type": "markdown",
   "id": "3b526f9f-8038-4cb9-a54c-c9b75bfe6968",
   "metadata": {
    "collapsed": false,
    "name": "test_your_knowledge",
    "resultHeight": 169
   },
   "source": [
    "## Test Your Knowledge. 🔎\n",
    "\n",
    "Run the following Python cell to present a Streamlit-driven widget and answer the question about Snowflake features and functionality. You don't have to understand what this is doing for now. Just go ahead and run the code.\n",
    "\n",
    "You need to answer this question correctly to proceed to the next section."
   ]
  },
  {
   "cell_type": "code",
   "execution_count": null,
   "id": "c6c3f718-9b4f-4053-bcb1-19d2b0d2e5e8",
   "metadata": {
    "collapsed": false,
    "language": "python",
    "name": "cell53",
    "resultHeight": 0
   },
   "outputs": [],
   "source": [
    "st.divider()\n",
    "question = \"What is a File Format?\"\n",
    "options = [\"Pick selection below...\",\n",
    "           \"A) It is a way to tell Snowflake how your data will be structured when it arrives\", \n",
    "           \"B) It is a way to set margins and font for a table\", \n",
    "           \"C) It is a way to choose the background color of a web page\"]\n",
    "           \n",
    "user_answer = st.radio(question, options, index=0)\n",
    "if user_answer:\n",
    "    if user_answer == \"Pick selection below...\": # this option is a workaround until streamlit is upgraded > 1.26.0 so we can use index=None\n",
    "        ''\n",
    "    else:\n",
    "        answer = '86daf22385efa59da7aafe3ea07d9f5e'\n",
    "        response = session.sql(f\"call common_db.resources.quiz_temp('{answer}', '{user_answer}', 'False')\").collect()\n",
    "        if response:\n",
    "            value = response[0]['QUIZ_TEMP']\n",
    "        st.write(value)"
   ]
  },
  {
   "cell_type": "markdown",
   "id": "cf95bfac-307f-4cfd-a7a7-e9b712bc0b65",
   "metadata": {
    "collapsed": false,
    "name": "next_steps",
    "resultHeight": 102
   },
   "source": [
    "## Next Steps\n",
    "\n",
    "If you have completed the lab steps and answered the **Knowledge Test** questions correctly, please proceed to the next Notebook when advised by your Snowflake instructor."
   ]
  }
 ]
}