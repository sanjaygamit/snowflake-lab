{
 "metadata": {
  "kernelspec": {
   "display_name": "Streamlit Notebook",
   "name": "streamlit"
  },
  "lastEditStatus": {
   "notebookId": "yi7cpu7jbtumckymccmi",
   "authorId": "6380573264452",
   "authorName": "MAGPIE07",
   "authorEmail": "",
   "sessionId": "aacd1603-dc4b-4106-8173-81c56965a3df",
   "lastEditTime": 1745834046917
  }
 },
 "nbformat_minor": 5,
 "nbformat": 4,
 "cells": [
  {
   "cell_type": "markdown",
   "id": "a1446f11-3ea1-4661-a5f0-87b6f1e81d2b",
   "metadata": {
    "collapsed": false,
    "name": "lab_5_warehouses_and_context"
   },
   "source": [
    "# Lab 5: Warehouses and Context\n",
    "\n",
    "👉 - In this lab, we will discuss virtual warehouses in more detail and explore options for adjusting their size (compute capacity), as well as examining Snowsight's options for viewing cost information.\n",
    "\n",
    "To begin, let's grab **context information** we will use throughout this lab. \n",
    "\n",
    "- Click the **Start** button to activate this notebook.\n",
    "\n",
    "- Run the following Python cell."
   ]
  },
  {
   "cell_type": "markdown",
   "id": "a6d2d58c-2fe0-4531-b672-09edc3fc9bb4",
   "metadata": {
    "collapsed": false,
    "name": "cell2"
   },
   "source": [
    "#### :warning: Each time a new session is started for this notebook, you need to rerun the cell below to configure \"variables\" for use in later cells. :warning:"
   ]
  },
  {
   "cell_type": "code",
   "execution_count": null,
   "id": "9d846b87-59db-4e43-a812-d86d0879ca0d",
   "metadata": {
    "collapsed": false,
    "language": "python",
    "name": "cell3"
   },
   "outputs": [],
   "source": [
    "import streamlit as st\n",
    "from snowflake.snowpark.context import get_active_session\n",
    "session = get_active_session()\n",
    "user = session.get_current_user().strip('\"')\n",
    "your_db = user + '_DB'\n",
    "print('Your current CONTEXT information:')\n",
    "print('---------------------------------')\n",
    "print(session)\n",
    "print('Your current USER is ' + user)"
   ]
  },
  {
   "cell_type": "markdown",
   "id": "3775908f-ca36-4846-8f38-5adca39217f2",
   "metadata": {
    "collapsed": false,
    "name": "what_is_a_warehouse_in_snowflake"
   },
   "source": [
    "## What is a Warehouse in Snowflake? 📓 \n",
    "\n",
    "### Defining \"Warehouse\" in Snowflake:\n",
    "\n",
    "- People who have been working with data for a while might think of the term \"Data Warehouse\" as referring to a special collection of data structures, but in Snowflake, warehouses don't store data.\n",
    "\n",
    "- In Snowflake, warehouses are \"compute resources\" - they are used to perform the processing of data. \n",
    "\n",
    "- When you create a warehouse in Snowflake, you are defining these \"resources\".\n",
    "\n",
    "### Scaling Up and Down: \n",
    "\n",
    "- Changing the size of warehouse changes the number of servers in the cluster. \n",
    "\n",
    "- Changing the size of an existing warehouse is called scaling up or scaling down.\n",
    "\n",
    "### Scaling In and Out: \n",
    "\n",
    "- If multi-cluster/elastic warehousing is available (Enterprise edition or above), a warehouse is capable of scaling out in times of increased demand.\n",
    "\n",
    "- If multi-cluster scaling out takes place, clusters are added for the period of demand, and then clusters are removed (snap back) when demand decreases.\n",
    "\n",
    "- The number of servers in the original cluster dictates the number of servers in each cluster during periods where the warehouse scales out by adding clusters. "
   ]
  },
  {
   "cell_type": "markdown",
   "id": "2f1d3ba9-680e-4875-bd2d-256fe29727bf",
   "metadata": {
    "collapsed": false,
    "name": "just_because_you_can"
   },
   "source": [
    "## Just Because You Can...📓 \n",
    "\n",
    "### ...Doesn't Mean You SHOULD!!! 📓 \n",
    "\n",
    "In Snowflake, you can bring ENORMOUS compute power into play in just a few seconds! We want you to know this is possible, especially if you have a large job that needs **LARGE** computing power. \n",
    "\n",
    "But, we also want you to know that most queries **DO NOT** require massive computing power. \n",
    "\n",
    "In fact, Snowflake recommends always starting with extra-small (XS) warehouses and only scaling up if you find a compelling reason to do that. XS warehouses use one credit per hour. Our largest warehouse is the Snowpark-optimized 6XL, which uses a whopping 768 credits per hour! More than 38 credits per minute! \n",
    "\n",
    "For this workshop, keep your warehouse set to XS except in cases where we ask you to use size S instead. \n",
    "\n",
    "For on-the-job Snowflake usage, you will likely have people who oversee the configuration of your warehouses. Warehouse oversizing is the simplest way to make mistakes that cause big surprises on the monthly invoice, so it's best to get accustomed to using XS and S warehouses most of the time and scale up only after careful consideration.\n",
    "\n",
    "Snowflake recommends that each account have people who oversee costs and will have advanced knowledge of how to choose warehouse sizes best and configure the elasticity settings. These cost administrators will also be able to calculate whether the change in warehouse-size will result in enough time savings to justify the costs incurred or even balance them out. "
   ]
  },
  {
   "cell_type": "markdown",
   "id": "486ed0b6-6e49-4085-8f19-94874bc1b030",
   "metadata": {
    "collapsed": false,
    "name": "resizing_virtual_warehouses"
   },
   "source": [
    "## Resizing Virtual Warehouses 🥋\n",
    "\n",
    "Snowflake Virtual Warehouse size can be adjusted via Snowsight or programmatically. Let's explore these options with your assigned virtual warehouse.\n",
    "\n",
    "### Scale your virtual warehouse \"up\" using Snowsight.\n",
    "\n",
    "Open the Snowsight Warehouses page in a new brower tab or window.\n",
    "\n",
    "1. Hover over the **Admin** icon to the left of your Notebook in the main menu.\n",
    "\n",
    "1. Right-click on the **Warehouses** link that appears in the dialog that appears and select your preferred target - a new tab or a new window.\n",
    "\n",
    "1. Taking this action means we leave this Snowflake Notebook page uninterrupted and can switch back to its instructions easily.\n",
    "\n",
    "![Open Warehouses page (image)](https://edu-cdev-images.s3.us-west-2.amazonaws.com/ob/ob_admin_menu_1.png)\n",
    "\n",
    "1. Locate your animal named warehouse line.\n",
    "\n",
    "1. Click on the ellipsis to the right of this line and select the **Edit** option.\n",
    "\n",
    "![Open warehouses edit dialog (image)](https://edu-cdev-images.s3.us-west-2.amazonaws.com/ob/ob_warehouse_edit_1.png)\n",
    "\n",
    "1. Click into the **Size** dropdown.\n",
    "\n",
    "1. Select the **Small 2 credits/hour** option.\n",
    "\n",
    "1. Click the blue **Save Warehouse** option.\n",
    "\n",
    "![Adjust warehouse size (image)](https://edu-cdev-images.s3.us-west-2.amazonaws.com/ob/ob_warehouse_edit_2.png)"
   ]
  },
  {
   "cell_type": "markdown",
   "id": "498400a2-a292-4af3-b645-0f425c6cb49d",
   "metadata": {
    "collapsed": false,
    "name": "cell7"
   },
   "source": [
    "### Check your virtual warehouse size using code. 🥋\n",
    "\n",
    "We can use the `SHOW` command to present many details of our virtual warehouse, including its current size.\n",
    "\n",
    "Execute the following and note the value in the \"size\" column for your warehouse:"
   ]
  },
  {
   "cell_type": "code",
   "execution_count": null,
   "id": "b9da968f-2bf2-4a0d-afa2-0b18246c1da3",
   "metadata": {
    "collapsed": false,
    "language": "sql",
    "name": "cell8"
   },
   "outputs": [],
   "source": [
    "SHOW warehouses like '{{user}}_wh';"
   ]
  },
  {
   "cell_type": "markdown",
   "id": "2537a3fe-27cf-4dc5-a1bd-0b50163e2b32",
   "metadata": {
    "collapsed": false,
    "name": "cell9"
   },
   "source": [
    "### Adjust your virtual warehouse size using code. 🥋\n",
    "\n",
    "Provided you have the permission to perform these types of actions on a virtual warehouse, the `ALTER` statement can be used to change many of its properties, cancel running queries, and suspend (stop) or resume (start) it.\n",
    "\n",
    "Execute the `ALTER` statement to return your virtual warehouse to the size it was before scaling it up using Snowsight in the above exercise."
   ]
  },
  {
   "cell_type": "code",
   "execution_count": null,
   "id": "d8bf57f5-4325-42c8-948b-7706804a9541",
   "metadata": {
    "collapsed": false,
    "language": "sql",
    "name": "cell10"
   },
   "outputs": [],
   "source": [
    "ALTER warehouse {{user}}_wh SET warehouse_size=XSMALL;"
   ]
  },
  {
   "cell_type": "markdown",
   "id": "90833e2f-d1b1-40a7-89a7-31acbffb86c8",
   "metadata": {
    "collapsed": false,
    "name": "cell11"
   },
   "source": [
    "### Use the `SHOW` command to confirm the successful warehouse size change. 🎯 \n",
    "\n",
    "- **WRITE** a `SHOW` command to display information (including its current size) in the SQL cell below and run.\n",
    "\n",
    "💡 **Hint**: no code is supplied in the following cell, but you should be able to take \"inspiration\" from commands run earlier in this notebook."
   ]
  },
  {
   "cell_type": "code",
   "execution_count": null,
   "id": "ccfbd170-4bf6-4ee1-a43a-37a7a4f557eb",
   "metadata": {
    "language": "sql",
    "name": "cell12"
   },
   "outputs": [],
   "source": "-- write your SHOW command here and run it to confirm the current virtual warehouse size\nSHOW warehouses like 'MAGPIE07_WH';"
  },
  {
   "cell_type": "markdown",
   "id": "479d382f-d758-4bf0-9c36-2e83d6a60b16",
   "metadata": {
    "collapsed": false,
    "name": "cell13"
   },
   "source": [
    "### Protecting Yourself from Surprises 📓 \n",
    "\n",
    "Snowflake has many ways to monitor and control costs so that if someone makes a mistake, you'll know about it as quickly as possible. A platform administrator will typically configure and manage these in your Snowflake account. Some of the options include:\n",
    "\n",
    "- [Budgets](https://docs.snowflake.com/en/user-guide/budgets)\n",
    "- [Resource Monitors](https://docs.snowflake.com/en/user-guide/resource-monitors)\n",
    "- [Alerts and Notifications](https://docs.snowflake.com/en/guides-overview-alerts)\n"
   ]
  },
  {
   "cell_type": "markdown",
   "id": "22712582-6052-4102-a1e0-8886f5ba331c",
   "metadata": {
    "collapsed": false,
    "name": "cell14"
   },
   "source": [
    "### Viewing Cost Information 📓\n",
    "\n",
    "Snowflake provides multiple features and capabilities to help you keep track of spending on the platform. You can write queries against views in the **ACCOUNT_USAGE** and **ORGANIZATION_USAGE** schemas of the **SNOWFLAKE** database to obtain this information. Even more simply, you can explore historical costs using Snowsight. Snowsight lets you quickly and easily obtain cost information from a visual dashboard. \n",
    "\n",
    "By default, only account administrators (that is, users with the `ACCOUNTADMIN` role) have access to cost and usage data, but these privileges have been granted to your `(animal)_LEARNER_RL` in this account. \n",
    "\n",
    "To explore account-level costs:\n",
    "- Select **Admin** » **Cost Management** from the main left-side menu in Snowsight, and open this in a new browser tab or window\n",
    "\n",
    "![Access cost management (image)](https://edu-cdev-images.s3.us-west-2.amazonaws.com/ob/ob_cost_management_link_1.png)\n",
    "\n",
    "### Account Overview\n",
    "\n",
    "- If prompted, select a warehouse to use to view the usage data. Snowflake recommends using an X-Small warehouse for this purpose.\n",
    "- The **Account Overview** page provides high-level insights into the cost of using Snowflake and can be a starting point for optimizing your spend.\n",
    "\n",
    "![Account Overview (image)](https://edu-cdev-images.s3.us-west-2.amazonaws.com/ob/ob_account_overview_ui.png)\n",
    "\n",
    "### Consumption\n",
    "\n",
    "- You can use the **Consumption** page to drill down into the overall cost of using Snowflake for any given day, week, or month.\n",
    "\n",
    "![Account Overview (image)](https://edu-cdev-images.s3.us-west-2.amazonaws.com/ob/ob_consumption_ui.png)\n",
    "\n",
    "\n",
    "**Note**: these pages contain many selectable submenus and clickable components that allow you to drill down, filter, and sort costs in different ways, according to your requirements."
   ]
  },
  {
   "cell_type": "markdown",
   "id": "ce413279-d88a-4184-af45-8e7c3b78e2ad",
   "metadata": {
    "collapsed": false,
    "name": "lesson_5_challenge_exercise"
   },
   "source": [
    "## Lesson 5 Challenge Exercise 🎯 \n",
    "\n",
    "### Explore Account-level Costs\n",
    "\n",
    "#### Cost Management > Account Overview page 🎯 \n",
    "\n",
    "![Account Overview (image)](https://edu-cdev-images.s3.us-west-2.amazonaws.com/ob/ob_account_overview_ui_small.png)\n",
    "\n",
    "Explore this page for yourself in Snowsight, and answer the following:\n",
    "\n",
    "- what is the **average daily credits** for the last 28 days in this account?\n",
    "- what is the largest database?\n",
    "- which user(s) is responsible for the most expensive query during this period?"
   ]
  },
  {
   "cell_type": "markdown",
   "id": "ece9a1b7-78c7-4bd0-a77a-3a196cd8caf3",
   "metadata": {
    "collapsed": false,
    "name": "cell16"
   },
   "source": [
    "#### Cost Management > Consumption page 🎯 \n",
    "\n",
    "![Account Overview (image)](https://edu-cdev-images.s3.us-west-2.amazonaws.com/ob/ob_consumption_ui_small.png)\n",
    "\n",
    "Explore this page for yourself in Snowsight, and answer the following:\n",
    "\n",
    "- on which day were the most credits consumed during the past 28 days?\n",
    "- has AI Services consumed any credits during this period?\n",
    "- what Regions have been used for Data Storage in this account?"
   ]
  },
  {
   "cell_type": "markdown",
   "id": "b1f4fe66-c81e-425b-a4ac-c45868cbf8de",
   "metadata": {
    "collapsed": false,
    "name": "context_settings"
   },
   "source": [
    "## Context Settings 📓 \n",
    "\n",
    "**Does not exist** errors appear often, and they aren't always because you're using the wrong ROLE.\n",
    "\n",
    "Sometimes you see a does not exist error for other reasons, like:\n",
    "\n",
    "- you **created** something **in the wrong place** - like putting the ROOT_DEPTH table in the FRUITS schema.\n",
    "\n",
    "- you are **looking in the wrong place** -- like `SELECT * FROM ROOT_DEPTH;` but your database context is set to `SNOWFLAKE_SAMPLE_DATA.PUBLIC`.\n",
    "\n",
    "- you have a **typo** -- like `SELECT * FROM GARENPLNT.VEGGIES.ROOT_DEPTH;`\n",
    "\n",
    "Of course, it's also possible **you DID NOT CREATE** the item!! So check for that possibility as well!\n",
    "\n",
    "Also, by now, you should know...\n",
    "\n",
    "- the difference between a USER and a ROLE. \n",
    "\n",
    "- the difference between a USER and an ACCOUNT.\n",
    "\n",
    "- the difference between DEFAULT ROLE, your CURRENT ROLE on the Snowsight home page, and the ROLE in which your notebook context is set.\n",
    "\n",
    "- how to programmatically change your role in a Snowflake notebook.\n",
    "\n",
    "If you do not know these things, you may struggle with the questions below. If you do struggle, please go back and review the lesson."
   ]
  },
  {
   "cell_type": "markdown",
   "id": "413c6bd9-8a7a-4527-9f02-0898a877f97a",
   "metadata": {
    "collapsed": false,
    "name": "test_your_knowledge"
   },
   "source": [
    "## Test Your Knowledge. 🔎\n",
    "\n",
    "Run the following Python cell to present a Streamlit-driven widget and answer the questions about Snowflake features and functionality. You don't have to understand what this is doing for now. Just go ahead and run the code.\n",
    "\n",
    "You need to answer these questions correctly to proceed to the next section."
   ]
  },
  {
   "cell_type": "code",
   "execution_count": null,
   "id": "21db46b2-9770-42ce-8f01-f31dadbb4aca",
   "metadata": {
    "collapsed": false,
    "language": "python",
    "name": "cell19"
   },
   "outputs": [],
   "source": [
    "import streamlit as st\n",
    "st.divider()\n",
    "question = \"What is a true statement about Snowflake Warehouses\"\n",
    "options = [\"Pick selection below...\",\n",
    "           \"A) Snowflake Warehouses are like Data Marts in that they hold subsections of data for an organization\", \n",
    "           \"B) Functionally, a Snowflake Warehouse is more like a spreadsheet workbook than a laptop CPU\", \n",
    "           \"C) Snowflake Warehouses provide computing power to run queries, load data, and carry out other tasks\",\n",
    "           \"D) Snowflake Warehouses were designed to hold data in structures based on Kimball and Inmon data warehousing theories\"]\n",
    "\n",
    "user_answer = st.radio(question, options, index=0)\n",
    "if user_answer:\n",
    "    if user_answer == \"Pick selection below...\":\n",
    "        ''\n",
    "    else:\n",
    "        answer = '6bec45813186a6e5917d536e44d9e49e'\n",
    "        response = session.sql(f\"call common_db.resources.quiz_temp('{answer}', '{user_answer}', 'False')\").collect()\n",
    "        if response:\n",
    "            value = response[0]['QUIZ_TEMP']\n",
    "        st.write(value)"
   ]
  },
  {
   "cell_type": "code",
   "execution_count": null,
   "id": "991a6468-dbe4-48ba-83bf-8c22cd101a8b",
   "metadata": {
    "collapsed": false,
    "language": "python",
    "name": "cell20"
   },
   "outputs": [],
   "source": [
    "st.divider()\n",
    "question = \"Scaling OUT/BACK and scaling UP/DOWN are easily confused. What is a true statement about scaling Snowflake Warehouses\"\n",
    "options = [\"Pick selection below...\",\n",
    "           \"A) Altering an XS Warehouse and making it an M is an example of scaling UP\", \n",
    "           \"B) Altering an XS Warehouse and making it an M is an example of scaling OUT\", \n",
    "           \"C) When an XS Warehouse automatically adds clusters to handle an increased workload, this is an example of scaling UP\",\n",
    "           \"D) When an XS Warehouse automatically adds clusters to handle an increased workload, this is an example of scaling DOWN\"]\n",
    "\n",
    "user_answer = st.radio(question, options, index=0)\n",
    "if user_answer:\n",
    "    if user_answer == \"Pick selection below...\":\n",
    "        ''\n",
    "    else:\n",
    "        answer = '41ba46fce3261b224dd68ad60f152d9b'\n",
    "        response = session.sql(f\"call common_db.resources.quiz_temp('{answer}', '{user_answer}', 'False')\").collect()\n",
    "        if response:\n",
    "            value = response[0]['QUIZ_TEMP']\n",
    "        st.write(value)"
   ]
  },
  {
   "cell_type": "code",
   "execution_count": null,
   "id": "d0f34f71-9035-4e48-bd86-776943c6bd8f",
   "metadata": {
    "collapsed": false,
    "language": "python",
    "name": "cell21"
   },
   "outputs": [],
   "source": [
    "st.divider()\n",
    "question = \"Warehouses can be manually scaled UP or DOWN. They can be set up so that they automatically scale OUT. What is the opposite of SCALING OUT?\"\n",
    "options = [\"Pick selection below...\",\n",
    "           \"A) De-Scaling\", \n",
    "           \"B) Scaling Back\", \n",
    "           \"C) Shedding Clusters\",\n",
    "           \"D) Scaling DOWN\"]\n",
    "\n",
    "user_answer = st.radio(question, options, index=0)\n",
    "if user_answer:\n",
    "    if user_answer == \"Pick selection below...\":\n",
    "        ''\n",
    "    else:\n",
    "        answer = 'd32360b1231ec658361bec6b720bd70b'\n",
    "        response = session.sql(f\"call common_db.resources.quiz_temp('{answer}', '{user_answer}', 'False')\").collect()\n",
    "        if response:\n",
    "            value = response[0]['QUIZ_TEMP']\n",
    "        st.write(value)"
   ]
  },
  {
   "cell_type": "code",
   "execution_count": null,
   "id": "8a221341-566e-4cad-9b64-68c86e167f69",
   "metadata": {
    "collapsed": false,
    "language": "python",
    "name": "cell22"
   },
   "outputs": [],
   "source": [
    "st.divider()\n",
    "question = \"Warehouse scaling involves both servers and clusters. Which statement about servers and clusters' role in Warehouse sizing and scaling is true?\"\n",
    "options = [\"Pick selection below...\",\n",
    "           \"A) Server just means a \\\"group\\\" of clusters\", \n",
    "           \"B) An M-sized warehouse (not scaled out) has more clusters than an XS-sized Warehouse\", \n",
    "           \"C) A server can hold multiple clusters\",\n",
    "           \"D) A cluster can hold multiple servers\"]\n",
    "\n",
    "user_answer = st.radio(question, options, index=0)\n",
    "if user_answer:\n",
    "    if user_answer == \"Pick selection below...\": \n",
    "        ''\n",
    "    else:\n",
    "        answer = '680a18f9d2c073d4e6a9e42faabc5fc7'\n",
    "        response = session.sql(f\"call common_db.resources.quiz_temp('{answer}', '{user_answer}', 'False')\").collect()\n",
    "        if response:\n",
    "            value = response[0]['QUIZ_TEMP']\n",
    "        st.write(value)"
   ]
  },
  {
   "cell_type": "code",
   "execution_count": null,
   "id": "03c7139f-2735-4dc1-a646-ff407d6aeed2",
   "metadata": {
    "collapsed": false,
    "language": "python",
    "name": "cell23"
   },
   "outputs": [],
   "source": [
    "st.divider()\n",
    "question = \"When should you scale up an existing warehouse?\"\n",
    "options = [\"Pick selection below...\",\n",
    "           \"A) When you are bored and it seems like something fun to try\", \n",
    "           \"B) When you have carefully considered the impact of scaling up: increased credits used per hour\", \n",
    "           \"C) When a free-wheeling colleague is shouting louder at you to do so than a more conservative colleague\"]\n",
    "\n",
    "user_answer = st.radio(question, options, index=0)\n",
    "if user_answer:\n",
    "    if user_answer == \"Pick selection below...\": \n",
    "        ''\n",
    "    else:\n",
    "        answer = 'eebed83353dc0f34d440e2acede96207'\n",
    "        response = session.sql(f\"call common_db.resources.quiz_temp('{answer}', '{user_answer}', 'False')\").collect()\n",
    "        if response:\n",
    "            value = response[0]['QUIZ_TEMP']\n",
    "        st.write(value)"
   ]
  },
  {
   "cell_type": "markdown",
   "id": "e6428ef6-6439-4b97-994c-f694018037d7",
   "metadata": {
    "collapsed": false,
    "name": "next_steps"
   },
   "source": [
    "## Next Steps\n",
    "\n",
    "If you have completed the lab steps and answered the **Knowledge Test** questions correctly, please proceed to the next Notebook when advised by your Snowflake instructor."
   ]
  }
 ]
}