{
 "metadata": {
  "kernelspec": {
   "display_name": "Streamlit Notebook",
   "name": "streamlit"
  },
  "lastEditStatus": {
   "notebookId": "cuz6gjdqwwmu7bwl6kzj",
   "authorId": "6380573264452",
   "authorName": "MAGPIE07",
   "authorEmail": "",
   "sessionId": "177e3b65-285e-46c9-8cd4-6b7873a22b85",
   "lastEditTime": 1745908492112
  }
 },
 "nbformat_minor": 5,
 "nbformat": 4,
 "cells": [
  {
   "cell_type": "markdown",
   "id": "091f55df-8db4-4395-baaf-28dc96ffee2a",
   "metadata": {
    "collapsed": false,
    "name": "lab_1_interacting_with_snowflake"
   },
   "source": [
    "# Lab 1: Interacting with Snowflake\n",
    "\n",
    "👉 In this lesson, we'll introduce you to a number of the visual interfaces you can use to interact with Snowflake. We will explore Snowflake Notebooks, which will be used throughout this course."
   ]
  },
  {
   "cell_type": "markdown",
   "id": "bb4e5443-e603-440f-b6d8-f06ce2d203fe",
   "metadata": {
    "collapsed": false,
    "name": "snowsight_user_interfaces"
   },
   "source": [
    "## Snowsight user interfaces. 📓 \n",
    "\n",
    "Snowsight, the web UI you are logged into, contains several different interfaces to interact with Snowflake, depending on your preferences.\n",
    "\n",
    "### An Object-based UI navigator.\n",
    "\n",
    "- This is the Main or Home interface for managing and viewing objects.\n",
    "    \n",
    "- When you click on the Snowflake logo (top-left) in this interface, the Home screen displays. This offers a search bar, **Quick actions** links, and a list of **Recently viewed** projects.\n",
    "\n",
    "- Click on the **Worksheets** tab, and the **Go to Worksheets** button, and the following screen displays.\n",
    "\n",
    "![Snowsight home (image)](https://edu-cdev-images.s3.us-west-2.amazonaws.com/ob/ob_snowsight_main_1.png)"
   ]
  },
  {
   "cell_type": "markdown",
   "id": "12dac64b-57c6-429c-9fb6-b04cb31114d7",
   "metadata": {
    "collapsed": false,
    "name": "cell3"
   },
   "source": [
    "### SQL-based worksheets\n",
    "    \n",
    "- Use to write and run SQL statements and queries, and view results. \n",
    "\n",
    "- Has an embedded object browser, which is a hierarchical tree that allows you to find and select the objects you want to work with.\n",
    "\n",
    "![SQL worksheet (image)](https://edu-cdev-images.s3.us-west-2.amazonaws.com/ob/ob_snowsight_worksheet_1.png)"
   ]
  },
  {
   "cell_type": "markdown",
   "id": "06ff9846-4c45-4d6c-891f-9250bf1ef602",
   "metadata": {
    "collapsed": false,
    "name": "cell4"
   },
   "source": "### Python-based worksheets\n\n- Use to write and run Python, with an option to deploy this code as a Python stored procedure.\n\n- Also has an embedded object browser.\n\n![Python worksheet (image)](https://edu-cdev-images.s3.us-west-2.amazonaws.com/ob/ob_python_worksheet_1.png)"
  },
  {
   "cell_type": "markdown",
   "id": "799a82e6-d17e-4e7f-8c5d-fcbadd135cb6",
   "metadata": {
    "collapsed": false,
    "name": "cell5"
   },
   "source": [
    "### Snowflake Notebooks\n",
    "\n",
    "- Contains markdown cells for annotation, along with executable SQL and Python cells.\n",
    "\n",
    "- Also has an embedded object browser.\n",
    "    \n",
    "![Snowsight home (image)](https://edu-cdev-images.s3.us-west-2.amazonaws.com/ob/ob_snowflake_notebook_1.png)\n",
    "\n",
    "👉 **Snowflake Notebooks** are the primary vehicle by which you will interact with the lab content for this course. We will spend a little time exploring their capabilities before entering the course content."
   ]
  },
  {
   "cell_type": "markdown",
   "id": "8c2c7555-dd00-469d-b95b-9d022e64a50d",
   "metadata": {
    "collapsed": false,
    "name": "snowflake_notebook_capabilities"
   },
   "source": [
    "## Snowflake Notebook Capabilities 📓 \n",
    "\n",
    "### Starting a notebook session.\n",
    "\n",
    "Snowflake notebooks require **active** compute resources to execute code in the SQL and Python cells they contain. These compute resources (a Snowflake virtual warehouse, which we will explain later) are assigned to a Snowflake Notebook at creation time. But they do not start when you enter a notebook. A new `session` can be triggered in one of two ways:\n",
    "\n",
    "1. Click the **Start** button at the top-right of the notebook interface. This may take several seconds to complete, and the button will display **Active** once complete.\n",
    "1. Try running an executable (SQL or Python) notebook cell. This system will establish a new session before running the code in that cell.\n",
    "\n",
    "![Start session (image)](https://edu-cdev-images.s3.us-west-2.amazonaws.com/ob/ob_start_session.png)\n",
    "\n",
    "💡 **Tip:** The dropdown to the right of this button contains an option to `End` a session. When you have finished your work in a notebook, it's good practice to end your notebook session manually. Notebooks shut down automatically after a configurable idle timeout period expires, but doing this manually once your work is done will save on compute costs."
   ]
  },
  {
   "cell_type": "markdown",
   "id": "400fc883-f803-44c9-b880-e30db21571ff",
   "metadata": {
    "collapsed": false,
    "name": "cell7"
   },
   "source": [
    "### Notebook cell basics. 📓 \n",
    "\n",
    "- **Add cells**\n",
    "    - Hover over the lower border of an existing cell, then click on the button for desired cell type. \n",
    "\n",
    "- **Change cell types**\n",
    "    - In the existing cell, select the down arrow next to cell type.\n",
    "\n",
    "- **Delete cells**\n",
    "    - Select ellipsis and choose appropriate action.\n",
    "\n",
    "- **Move cells**\n",
    "    - Select ellipsis (three stacked vertical dots) and choose appropriate action (Move cell up, Move cell down).\n",
    "    - Hover over the cell to move, select drag and drop icon, move cell to the new location."
   ]
  },
  {
   "cell_type": "markdown",
   "id": "3d5760b7-2921-4126-9b94-16e14e8b44aa",
   "metadata": {
    "collapsed": false,
    "name": "this"
   },
   "source": [
    "### Try it yourself! 🥋\n",
    "\n",
    "1. Click the dropdown next to the **Markdown** label at the top-left of this notebook cell and see how easy it is to change this cell type to either SQL or Python.\n",
    "1. Rename this markdown cell by clicking on the name and entering a new label. Note that there are certain limitations on characters that can be used in a cell name.\n",
    "1. Select the ellipsis top-right of this markdown cell and note the options to move or delete this cell.\n",
    "1. Click on the horizontal bar icon to the left of the ellipsis, top right of this cell, to **Collapse** or **Expand** this cell in the notebook."
   ]
  },
  {
   "cell_type": "markdown",
   "id": "8985824b-b81d-4182-918f-20b85746ec26",
   "metadata": {
    "collapsed": false,
    "name": "cell9"
   },
   "source": [
    "### Running notebook cells. 📓 \n",
    "\n",
    "![Notebook run options (image)](https://edu-cdev-images.s3.us-west-2.amazonaws.com/ob/ob_notebook_run_options_1.png)\n",
    "\n",
    "Common cell actions are listed below for your awareness:\n",
    "\n",
    "- **Run a single cell**\n",
    "    - Select gray play arrow in top right corner of cell.\n",
    "    - Use standard Run shortcut keys:\n",
    "        - Cmd + Return - Mac.\n",
    "        - Ctrl + Enter - Windows.\n",
    "    \n",
    "- **Run all notebook cells sequentially**\n",
    "    - Select **Run all** (option at top of notebook to the right of the **Start** button).\n",
    "    - Use shortcut keys:\n",
    "        - Cmd + Shift + Return – Mac.\n",
    "        - Ctrl + Shift + Enter – Windows.\n",
    "\n",
    "- **Run cell and advance (to next)**\n",
    "    - Select ellipsis at the top of a SQL or Python cell, click on **Run cell and advance**.\n",
    "    - Use shortcut keys:\n",
    "        - Shift + Return – Mac.\n",
    "        - Shift + Enter – Windows.\n",
    "\n",
    "- **Run all above or Run all below (current cell)**\n",
    "    - Select ellipsis at the top of a SQL or Python cell, click **Run all above** or **Run all below**."
   ]
  },
  {
   "cell_type": "markdown",
   "id": "5533ac38-55c6-4b8c-99c0-d63dec8d1a2d",
   "metadata": {
    "collapsed": false,
    "name": "running_sql_cells"
   },
   "source": [
    "## Running SQL Cells\n",
    "\n",
    "Notebook SQL cells let you write and run SQL statements, review some query details, and examine results.\n",
    "\n",
    "### Try it yourself! 🥋\n",
    "\n",
    "1. Start the notebook session if it is not already **Active**.\n",
    "1. Run the **SQL** cell immediately below this markdown cell using the grey **Run** button in that cell.\n",
    "1. See if you can re-run the same cell using the keyboard shortcut instead of the **Run** button.\n",
    "1. If you feel comfortable, edit the SQL in the cell (change **date** for **time** and `current_date()` for `current_timestamp()`) and rerun.\n",
    "\n",
    "💡 **Tip:** As you enter SQL into the cell, note that the **autocomplete** feature runs, offering contextual suggestions.\n"
   ]
  },
  {
   "cell_type": "code",
   "execution_count": null,
   "id": "405c7e5e-4399-4c38-b1f7-922cd139a4f0",
   "metadata": {
    "collapsed": false,
    "language": "sql",
    "name": "cell11"
   },
   "outputs": [],
   "source": [
    "SELECT current_date() as \"What is the current date?\";"
   ]
  },
  {
   "cell_type": "markdown",
   "id": "d0cff537-0a4e-47da-8d3c-96ee76044c0b",
   "metadata": {
    "collapsed": false,
    "name": "running_python_cells"
   },
   "source": [
    "## Running Python Cells\n",
    "\n",
    "Notebook Python cells enable you to write code to:\n",
    "- Extract data from stages or database objects.\n",
    "- Transform and store data.\n",
    "- Conduct data analysis and manipulation.\n",
    "- Create data visualizations.\n",
    "- Access SQL results as Snowpark or Pandas DataFrames.\n",
    "\n",
    "And you can even use your favourite Python libraries! :snake:\n",
    "\n",
    "### Try it yourself! 🥋 \n",
    "\n",
    "1. Run the Python cell immediately below this markdown cell using the grey Run button in that cell.\n",
    "1. See if you can re-run the same cell using the keyboard shortcut instead of the Run button.\n",
    "\n",
    "💡 Tip: Observe that the Python code used to produce the same result is slightly more verbose than the SQL statement you ran above. It requires a little more setup before execution but is incredibly flexible. Don't worry if you don't understand the ins and outs of the code at this stage. We will explain more throughout this course!"
   ]
  },
  {
   "cell_type": "code",
   "execution_count": null,
   "id": "74fd7a15-5833-47f4-9a28-82101136058c",
   "metadata": {
    "collapsed": false,
    "language": "python",
    "name": "cell13"
   },
   "outputs": [],
   "source": [
    "from snowflake.snowpark.context import get_active_session\n",
    "from snowflake.snowpark.functions import current_date\n",
    "session = get_active_session()\n",
    "session.create_dataframe([1]).select(current_date().alias(\"What is the current date?\")).collect()"
   ]
  },
  {
   "cell_type": "markdown",
   "id": "f5a2d402-8730-44f3-bf0e-414409fb9643",
   "metadata": {
    "collapsed": false,
    "name": "python_variable_substitution"
   },
   "source": [
    "## Python Variable Substitution Across Notebook Cells 🥋\n",
    "\n",
    "In Snowflake Notebooks, we can make use of Jinja syntax `{{..}}` to reference Python variables defined earlier in both Python and SQL cells that occur later.\n",
    "\n",
    "Let's demonstrate that by first defining a Python variable, and printing this out to screen in the cell. Execute the following Python cell to do so:"
   ]
  },
  {
   "cell_type": "code",
   "execution_count": null,
   "id": "bb188345-946f-4736-b23a-8db821acaefc",
   "metadata": {
    "collapsed": false,
    "language": "python",
    "name": "cell15"
   },
   "outputs": [],
   "source": [
    "greeting = 'Welcome to this course!'\n",
    "print(greeting)"
   ]
  },
  {
   "cell_type": "markdown",
   "id": "c5b7eda7-3d37-426f-abb8-6a6e3614de3d",
   "metadata": {
    "collapsed": false,
    "name": "cell16"
   },
   "source": [
    "We can reuse this stored variable in a later Python cell. Run the following."
   ]
  },
  {
   "cell_type": "code",
   "execution_count": null,
   "id": "fb357b81-40f4-4d24-82f6-d0d418900b0a",
   "metadata": {
    "collapsed": false,
    "language": "python",
    "name": "cell17"
   },
   "outputs": [],
   "source": [
    "print(\"This is the \\\"greeting\\\" that was defined in an earlier cell:\")\n",
    "print(greeting)"
   ]
  },
  {
   "cell_type": "markdown",
   "id": "e3bb5727-c33b-42b6-8bfb-00ca5d826622",
   "metadata": {
    "collapsed": false,
    "name": "cell18"
   },
   "source": [
    "We can use this variable substitution in **SQL** cells by leveraging the Jinja syntax! Try this out:"
   ]
  },
  {
   "cell_type": "code",
   "execution_count": null,
   "id": "aeea7c81-7989-4b2f-9a17-f58099105a4e",
   "metadata": {
    "collapsed": false,
    "language": "sql",
    "name": "cell19"
   },
   "outputs": [],
   "source": [
    "SELECT '{{greeting}}' AS \"This is the greeting that was defined in an earlier cell:\";"
   ]
  },
  {
   "cell_type": "markdown",
   "id": "6bdd5d06-9688-4ad8-b6f5-5ff14374a4ed",
   "metadata": {
    "collapsed": false,
    "name": "test_your_knowledge"
   },
   "source": [
    "## Test Your Knowledge. 🔎\n",
    "\n",
    "Run the following Python cells to present a Streamlit-driven widget and answer questions about the Snowflake interfaces. You don't have to understand what the code is doing for now. Just go ahead and run the code.\n",
    "\n",
    "You need to answer this question correctly to proceed to the next lab."
   ]
  },
  {
   "cell_type": "code",
   "execution_count": null,
   "id": "fc7a2876-3121-4414-af27-05518aaac3cc",
   "metadata": {
    "collapsed": false,
    "language": "python",
    "name": "cell21"
   },
   "outputs": [],
   "source": [
    "import streamlit as st\n",
    "try:\n",
    "    if session is None:\n",
    "        print('session is None')\n",
    "except NameError:\n",
    "    from snowflake.snowpark.context import get_active_session\n",
    "    session = get_active_session()\n",
    "\n",
    "question = \"Which statement below is true for Snowflake interfaces?\"\n",
    "options = [\"Pick selection below...\",\n",
    "           \"A) They are named Main and Notetake\", \n",
    "           \"B) They are named Classic Console and Snowdrift\", \n",
    "           \"C) They each have object browsers\", \n",
    "           \"D) Only the Main interface has an object picker\"]\n",
    "\n",
    "st.divider()\n",
    "user_answer = st.radio(question, options, index=0)\n",
    "if user_answer:\n",
    "    if user_answer == \"Pick selection below...\":\n",
    "        ''\n",
    "    else:\n",
    "        answer = 'ae31a86f12c9d9b48637179510ef15f0'\n",
    "        response = session.sql(f\"call common_db.resources.quiz_temp('{answer}', '{user_answer}', 'False')\").collect()\n",
    "        if response:\n",
    "            value = response[0]['QUIZ_TEMP']\n",
    "        st.write(value)"
   ]
  },
  {
   "cell_type": "code",
   "execution_count": null,
   "id": "89453c15-eeb3-4f43-b860-431c24144e2d",
   "metadata": {
    "collapsed": false,
    "language": "python",
    "name": "cell22"
   },
   "outputs": [],
   "source": [
    "question = \"Which statement below is true for Snowflake interfaces?\"\n",
    "options = [\"Pick selection below...\",\n",
    "           \"A) Snowflake worksheets are provided for both SQL and JavaScript\", \n",
    "           \"B) Snowflake notebook cell type options include Scala and JavaScript\", \n",
    "           \"C) Snowflake Python worksheets include an option to deploy functions in COBOL\", \n",
    "           \"D) Snowflake notebook cell type options include SQL and Python\"]\n",
    "\n",
    "st.divider()\n",
    "user_answer = st.radio(question, options, index=0)\n",
    "if user_answer:\n",
    "    if user_answer == \"Pick selection below...\":\n",
    "        ''\n",
    "    else:\n",
    "        answer = 'ab53dea1a0033503517d74b9e3678b6f'\n",
    "        response = session.sql(f\"call common_db.resources.quiz_temp('{answer}', '{user_answer}', 'False')\").collect()\n",
    "        if response:\n",
    "            value = response[0]['QUIZ_TEMP']\n",
    "        st.write(value)"
   ]
  },
  {
   "cell_type": "markdown",
   "id": "577806fc-a4ef-4122-99aa-c9d5beda9527",
   "metadata": {
    "collapsed": false,
    "name": "next_steps"
   },
   "source": [
    "## Next Steps\n",
    "\n",
    "If you have completed the lab steps and answered the **Knowledge Test** questions correctly, please proceed to the next Notebook when advised by your Snowflake instructor.\n",
    "\n",
    "To do so, click the navigation button on the top left of the Notebook interface to return to the Notebook listing page.\n",
    "\n",
    "![Notebook navigation (image)](https://edu-cdev-images.s3.us-west-2.amazonaws.com/ob/ob_notebook_nav_4.png)\n",
    "\n",
    "- A dialog may appear confirming that you want to **Leave notebook?** Click on the blue **Leave** button to exit."
   ]
  }
 ]
}